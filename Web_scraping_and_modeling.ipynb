{
 "cells": [
  {
   "cell_type": "markdown",
   "metadata": {
    "collapsed": true
   },
   "source": [
    "## Scraping Beer Advocate: all beers from all state lists"
   ]
  },
  {
   "cell_type": "code",
   "execution_count": 2,
   "metadata": {
    "collapsed": false
   },
   "outputs": [
    {
     "name": "stderr",
     "output_type": "stream",
     "text": [
      "/Users/braeburn/anaconda/lib/python3.6/site-packages/sklearn/cross_validation.py:44: DeprecationWarning: This module was deprecated in version 0.18 in favor of the model_selection module into which all the refactored classes and functions are moved. Also note that the interface of the new CV iterators are different from that of this module. This module will be removed in 0.20.\n",
      "  \"This module will be removed in 0.20.\", DeprecationWarning)\n"
     ]
    }
   ],
   "source": [
    "import pandas as pd\n",
    "import requests\n",
    "import re\n",
    "from bs4 import BeautifulSoup\n",
    "from datetime import datetime\n",
    "from geopy.geocoders import Nominatim\n",
    "from time import sleep\n",
    "import pickle\n",
    "import zipcode\n",
    "\n",
    "import pandas as pd\n",
    "import numpy as np\n",
    "import statsmodels.api as sm\n",
    "import statsmodels.formula.api as smf\n",
    "import patsy\n",
    "import seaborn as sns\n",
    "from seaborn import plt\n",
    "from sklearn.linear_model import LinearRegression\n",
    "from sklearn.cross_validation import train_test_split\n",
    "from sklearn.cross_validation import cross_val_score\n",
    "from sklearn.linear_model import RidgeCV\n",
    "from sklearn.linear_model import Lasso\n",
    "from sklearn.linear_model import ElasticNet\n",
    "from sklearn.linear_model import Ridge\n",
    "from sklearn.pipeline import make_pipeline\n",
    "from sklearn.preprocessing import PolynomialFeatures\n",
    "from sklearn import ensemble, tree \n",
    "from sklearn.ensemble import RandomForestRegressor\n",
    "from sklearn.ensemble import BaggingRegressor\n",
    "\n",
    "%matplotlib inline"
   ]
  },
  {
   "cell_type": "code",
   "execution_count": 3,
   "metadata": {
    "collapsed": true
   },
   "outputs": [],
   "source": [
    "sns.set_style('darkgrid')"
   ]
  },
  {
   "cell_type": "code",
   "execution_count": 2385,
   "metadata": {
    "collapsed": false
   },
   "outputs": [],
   "source": [
    "def to_soup(url):\n",
    "    \"\"\"\n",
    "    Takes url as input and returns soup object.\n",
    "    \"\"\"\n",
    "    response = requests.get(url)\n",
    "    page = response.text\n",
    "    soup = BeautifulSoup(page, \"lxml\")\n",
    "    return soup\n",
    "\n",
    "def get_name(soup):\n",
    "    \"\"\"\n",
    "    Takes soup oject as input and returns string within title tags.\n",
    "    \"\"\"\n",
    "    name_string = soup.find('title').text\n",
    "    name = name_string.split('|')[0].strip()\n",
    "    return name\n",
    "\n",
    "def get_beer_rating(soup):\n",
    "    \"\"\"\n",
    "    Takes soup oject as input and returns beer rating using ba-ravg class.\n",
    "    \"\"\"\n",
    "    avg_rating = soup.find('span', {'class':'ba-ravg'}).text\n",
    "    return avg_rating\n",
    "\n",
    "def get_beer_style(soup):\n",
    "    \"\"\"\n",
    "    Takes soup oject as input and returns beer style using 'Style:' text search.\n",
    "    \"\"\"\n",
    "    style_string = soup.find(text='Style:')\n",
    "    style = style_string.findNext().findNext().text\n",
    "    return style\n",
    "\n",
    "def find_abv_index (char, string):\n",
    "    \"\"\"\n",
    "    Finds index of string containing abv percent (i.e. string following\n",
    "    'Alcohol by'). Returns index number.\n",
    "    \"\"\"\n",
    "    for i in string:\n",
    "        if char in i:\n",
    "            return string.index(i) + 1\n",
    "        \n",
    "def get_beer_abv(soup):\n",
    "    \"\"\"\n",
    "    Takes soup object as input and uses find_abv_index to return abv percent.\n",
    "    \"\"\"\n",
    "    ba_block = str(soup.find_all(class_ = 'break')[1]).split('</b>')\n",
    "    abv_long = ba_block[find_abv_index('Alcohol by', ba_block)]\n",
    "    abv = abv_long.split()[0]\n",
    "    return abv\n",
    "\n",
    "def get_beer_year(soup):\n",
    "    \"\"\"\n",
    "    Takes soup object as input uses a regular expression to get the \n",
    "    date at the end of the \"Added by\" string. Returns year as a datetime object.\n",
    "    \"\"\"\n",
    "    addedby = soup.body.findAll(text=re.compile('^Added by*'))\n",
    "    strdate = addedby[0].split()[-1]\n",
    "    year = datetime.strptime(strdate, '%m-%d-%Y').year\n",
    "    return year\n",
    "\n",
    "def get_brewery(soup):\n",
    "    \"\"\"\n",
    "    Takes soup object as input and returns brewery using 'Brewedy by' text search.\n",
    "    \"\"\"\n",
    "    bb_string = soup.find(text='Brewed by:')\n",
    "    brewery = bb_string.findNext().findNext().text\n",
    "    return brewery\n",
    "\n",
    "def get_state(soup):\n",
    "    \"\"\"\n",
    "    Takes soup object as input and returns state using 'place/directory' href tags.\n",
    "    \"\"\"\n",
    "    if len(soup.find_all('a', href=re.compile(r'place/directory/'))) > 2:\n",
    "        state = soup.find_all('a', href=re.compile(r'place/directory/'))[2].text[:]\n",
    "        return state\n",
    "    else:\n",
    "        return None\n",
    "\n",
    "def get_country(soup):\n",
    "    \"\"\"\n",
    "    Takes soup object as input and returns country using 'place/directory' href tags.\n",
    "    \"\"\"\n",
    "    if len(soup.find_all('a', href=re.compile(r'place/directory/'))) > 2:\n",
    "        country = soup.find_all('a', href=re.compile(r'place/directory/'))[3].text[:]\n",
    "        return country\n",
    "    else:\n",
    "        return None"
   ]
  },
  {
   "cell_type": "code",
   "execution_count": 2386,
   "metadata": {
    "collapsed": true
   },
   "outputs": [],
   "source": [
    "def parse_page(url):\n",
    "    \"\"\"\n",
    "    Takes beer page url as input and calls functions to scrape beer attributes.\n",
    "    Returns tuple of beer name, rating, style, abv, year, brewery, state, country.\n",
    "    \"\"\"\n",
    "    soup = to_soup(url)\n",
    "    name = get_name(soup)\n",
    "    rating = get_beer_rating(soup)\n",
    "    style = get_beer_style(soup)\n",
    "    abv = get_beer_abv(soup)\n",
    "    year = get_beer_year(soup)\n",
    "    brewery = get_brewery(soup)\n",
    "    state = get_state(soup)\n",
    "    country = get_country(soup)\n",
    "    \n",
    "    attributes = (name, rating, style, abv, year, brewery, state, country)\n",
    "    \n",
    "    return attributes"
   ]
  },
  {
   "cell_type": "code",
   "execution_count": 2387,
   "metadata": {
    "collapsed": true
   },
   "outputs": [],
   "source": [
    "def get_urls(site, keyword_string):\n",
    "    \"\"\"\n",
    "    Takes a page url and keyword string for href tag. Returns a list of complete\n",
    "    urls on that page that have specified keywords in href tag. Urls include\n",
    "    www.beeradvocate.com prefix.\n",
    "    \"\"\"\n",
    "    soup = to_soup(site)\n",
    "    hrefs = soup.find_all('a', href=re.compile(keyword_string))\n",
    "    links = []\n",
    "    for anchor in hrefs:\n",
    "        links.append(anchor['href'])\n",
    "    links = ['https://www.beeradvocate.com' + x for x in links]\n",
    "    return links"
   ]
  },
  {
   "cell_type": "code",
   "execution_count": 2388,
   "metadata": {
    "collapsed": true
   },
   "outputs": [],
   "source": [
    "def beer_attrs_to_dict(urls):\n",
    "    \"\"\"\n",
    "    Takes list of beer page urls as input. Scrapes pages for beer attributes \n",
    "    ('name', 'rating', 'style', 'abv', 'year', 'brewery', 'state', 'country')\n",
    "    and returns a list of dictionaries with a dictionary for each beer.\n",
    "    \"\"\"\n",
    "    beer_data = []\n",
    "    for url in urls:\n",
    "        beer_info = parse_page(url)\n",
    "        headers = ['name', 'rating', 'style', 'abv', 'year', 'brewery', 'state', 'country']\n",
    "        beer_dict = dict(zip(headers, beer_info))\n",
    "        beer_data.append(beer_dict)\n",
    "    return beer_data"
   ]
  },
  {
   "cell_type": "code",
   "execution_count": 2389,
   "metadata": {
    "collapsed": false
   },
   "outputs": [],
   "source": [
    "# # top 100 beers (not using)\n",
    "\n",
    "# beer_links = get_urls('https://www.beeradvocate.com/lists/us/', 'beer/profile/' )\n",
    "# # pick up every other link to only select beer pages (and not brewery ones)\n",
    "# url_list_top_100 = beer_links[0::2]\n",
    "# # create dictionary with all beer info for top 100 beers in US\n",
    "# beer_data = beer_attrs_to_dict(url_list_top_100)\n",
    "\n",
    "# df = pd.DataFrame(beer_data)\n",
    "# # df.head()\n",
    "# df.to_csv('top_100_beers.csv')\n",
    "\n",
    "# ## to do later: confirm all these beers are in master_df"
   ]
  },
  {
   "cell_type": "markdown",
   "metadata": {},
   "source": [
    "**Generating list of urls for beer pages and brewery pages**"
   ]
  },
  {
   "cell_type": "code",
   "execution_count": 2390,
   "metadata": {
    "collapsed": false
   },
   "outputs": [],
   "source": [
    "# get all state pages\n",
    "state_links = get_urls('https://www.beeradvocate.com/lists/us/', 'lists/state/')\n",
    "\n",
    "# for each state page, get all beer profile pages and all brewery pages\n",
    "all_states_all_beers = []\n",
    "all_states_all_breweries = []\n",
    "for link in state_links:\n",
    "    one_state_all_links = get_urls(link, 'beer/profile/')\n",
    "    # every other link to just capture beer urls\n",
    "    one_state_all_beers = one_state_all_links[0::2]\n",
    "    all_states_all_beers.extend(one_state_all_beers)\n",
    "    # capturing brewery urls\n",
    "    one_state_all_breweries = one_state_all_links[1::2]\n",
    "    all_states_all_breweries.extend(one_state_all_breweries)"
   ]
  },
  {
   "cell_type": "code",
   "execution_count": 2391,
   "metadata": {
    "collapsed": false
   },
   "outputs": [
    {
     "data": {
      "text/plain": [
       "3824"
      ]
     },
     "execution_count": 2391,
     "metadata": {},
     "output_type": "execute_result"
    }
   ],
   "source": [
    "len(all_states_all_beers)"
   ]
  },
  {
   "cell_type": "markdown",
   "metadata": {},
   "source": [
    "**Scraping beer attributes**"
   ]
  },
  {
   "cell_type": "code",
   "execution_count": 2392,
   "metadata": {
    "collapsed": false
   },
   "outputs": [
    {
     "name": "stdout",
     "output_type": "stream",
     "text": [
      "100 complete\n",
      "200 complete\n",
      "300 complete\n",
      "400 complete\n",
      "500 complete\n",
      "600 complete\n",
      "700 complete\n",
      "800 complete\n",
      "900 complete\n",
      "1000 complete\n",
      "1100 complete\n",
      "1200 complete\n",
      "1300 complete\n",
      "1400 complete\n",
      "1500 complete\n",
      "1600 complete\n",
      "1700 complete\n",
      "1800 complete\n",
      "1900 complete\n",
      "2000 complete\n",
      "2100 complete\n",
      "2200 complete\n",
      "2300 complete\n",
      "2400 complete\n",
      "2500 complete\n",
      "2600 complete\n",
      "2700 complete\n",
      "2800 complete\n",
      "2900 complete\n",
      "3000 complete\n",
      "3100 complete\n",
      "3200 complete\n",
      "3300 complete\n",
      "3400 complete\n",
      "3500 complete\n",
      "3600 complete\n",
      "3700 complete\n",
      "3800 complete\n",
      "all complete\n"
     ]
    }
   ],
   "source": [
    "x = 0\n",
    "y = 100\n",
    "headers = ['name', 'rating', 'style', 'abv', 'year', 'brewery', 'state', 'country']\n",
    "master_df = pd.DataFrame(columns=headers)\n",
    "\n",
    "while y<len(all_states_all_beers):\n",
    "    beer_data = beer_attrs_to_dict(all_states_all_beers[x:y])\n",
    "    print('%d complete' % y)\n",
    "    x += 100\n",
    "    y += 100\n",
    "    df = pd.DataFrame(beer_data)\n",
    "    master_df = master_df.append(df)\n",
    "beer_data = beer_attrs_to_dict(all_states_all_beers[y-100:])\n",
    "print('all complete')\n",
    "df = pd.DataFrame(beer_data)\n",
    "master_df = master_df.append(df)"
   ]
  },
  {
   "cell_type": "code",
   "execution_count": 2395,
   "metadata": {
    "collapsed": false
   },
   "outputs": [
    {
     "data": {
      "text/plain": [
       "(3824, 8)"
      ]
     },
     "execution_count": 2395,
     "metadata": {},
     "output_type": "execute_result"
    }
   ],
   "source": [
    "master_df.shape"
   ]
  },
  {
   "cell_type": "code",
   "execution_count": 2396,
   "metadata": {
    "collapsed": true
   },
   "outputs": [],
   "source": [
    "master_df.to_csv('all_states_all_beers.csv')"
   ]
  },
  {
   "cell_type": "code",
   "execution_count": null,
   "metadata": {
    "collapsed": true
   },
   "outputs": [],
   "source": []
  },
  {
   "cell_type": "code",
   "execution_count": 2397,
   "metadata": {
    "collapsed": true
   },
   "outputs": [],
   "source": [
    "master_df.to_pickle('beers_master_df.pkl')"
   ]
  },
  {
   "cell_type": "code",
   "execution_count": null,
   "metadata": {
    "collapsed": true
   },
   "outputs": [],
   "source": []
  },
  {
   "cell_type": "code",
   "execution_count": null,
   "metadata": {
    "collapsed": true
   },
   "outputs": [],
   "source": [
    "# possible later scraping steps\n",
    "# scrape bottom of list\n",
    "# scrape 250 new beers\n",
    "# confirm all top 100 are in main list"
   ]
  },
  {
   "cell_type": "code",
   "execution_count": null,
   "metadata": {
    "collapsed": true
   },
   "outputs": [],
   "source": []
  },
  {
   "cell_type": "code",
   "execution_count": null,
   "metadata": {
    "collapsed": true
   },
   "outputs": [],
   "source": []
  },
  {
   "cell_type": "markdown",
   "metadata": {},
   "source": [
    "## scraping part two: brewery pages "
   ]
  },
  {
   "cell_type": "code",
   "execution_count": null,
   "metadata": {
    "collapsed": true
   },
   "outputs": [],
   "source": [
    "# scrape all zip codes along with brewery names\n",
    "# use zipcode package to create dict of brewery, zip code, city, lat, long\n",
    "# merge with dataframe"
   ]
  },
  {
   "cell_type": "code",
   "execution_count": 2399,
   "metadata": {
    "collapsed": true
   },
   "outputs": [],
   "source": [
    "import zipcode"
   ]
  },
  {
   "cell_type": "code",
   "execution_count": 2400,
   "metadata": {
    "collapsed": true
   },
   "outputs": [],
   "source": [
    "def get_zipcode(soup):\n",
    "    \"\"\"\n",
    "    Takes soup object as input and returns zipcode using 'place/directory' tags.\n",
    "    \"\"\"\n",
    "    if len(str(soup.find_all(class_ = 'break')[1]).split('/place/directory')[1].split('</a>, ')) > 1:\n",
    "        zipcode = str(soup.find_all(class_ = 'break')[1]).split('/place/directory')[1].split('</a>, ')[1][:5]\n",
    "        return zipcode\n",
    "    else:\n",
    "        return None"
   ]
  },
  {
   "cell_type": "code",
   "execution_count": 2401,
   "metadata": {
    "collapsed": true
   },
   "outputs": [],
   "source": [
    "def get_city_st(soup):\n",
    "    \"\"\"\n",
    "    Takes soup oject as input and returns city using title tags.\n",
    "    \"\"\"\n",
    "    location_string = soup.find('title').text\n",
    "    location = location_string.split('|')[1].strip()\n",
    "    return location"
   ]
  },
  {
   "cell_type": "code",
   "execution_count": 2402,
   "metadata": {
    "collapsed": true
   },
   "outputs": [],
   "source": [
    "def parse_brewery_page(url):\n",
    "    \"\"\"\n",
    "    Takes brewery page url as input and calls functions to scrape brewery attributes.\n",
    "    Returns tuple of brewrey name, location string, and zipcode.\n",
    "    \"\"\"\n",
    "    soup = to_soup(url)\n",
    "    brewery_name = get_name(soup)\n",
    "    location = get_city_st(soup)\n",
    "    zipcode = get_zipcode(soup)\n",
    "        \n",
    "    brewery_attributes = (brewery_name, location, zipcode)\n",
    "    \n",
    "    return brewery_attributes "
   ]
  },
  {
   "cell_type": "code",
   "execution_count": 2403,
   "metadata": {
    "collapsed": true
   },
   "outputs": [],
   "source": [
    "def brewery_dict(urls): \n",
    "    \"\"\"\n",
    "    Takes list of brewery page urls as input. Scrapes pages for brewery attributes \n",
    "    (brewery name, location (city, state), and zipcode) and returns at list\n",
    "    of dictionaries with a dictionary for each brewery.\n",
    "    \"\"\"\n",
    "    brewery_data = []\n",
    "    for url in urls:\n",
    "        brewery_info = parse_brewery_page(url)\n",
    "        headers = ['brewery_name', 'location', 'zipcode']\n",
    "        brewery_dict = dict(zip(headers, brewery_info))\n",
    "        brewery_data.append(brewery_dict)\n",
    "    return brewery_data"
   ]
  },
  {
   "cell_type": "code",
   "execution_count": 2404,
   "metadata": {
    "collapsed": false
   },
   "outputs": [],
   "source": [
    "# # first ten to test\n",
    "# headers = ['brewery_name', 'location', 'zipcode']\n",
    "# brewery_df = pd.DataFrame(columns=headers)\n",
    "# brewery_data = brewery_dict(all_states_all_breweries[0:10])\n",
    "# df = pd.DataFrame(brewery_data)\n",
    "# brewery_df = brewery_df.append(df)\n",
    "# brewery_df"
   ]
  },
  {
   "cell_type": "markdown",
   "metadata": {},
   "source": [
    "**Scraping brewery attributes**"
   ]
  },
  {
   "cell_type": "code",
   "execution_count": 2405,
   "metadata": {
    "collapsed": false
   },
   "outputs": [
    {
     "name": "stdout",
     "output_type": "stream",
     "text": [
      "100 complete\n",
      "200 complete\n",
      "300 complete\n",
      "400 complete\n",
      "500 complete\n",
      "600 complete\n",
      "700 complete\n",
      "800 complete\n",
      "900 complete\n",
      "1000 complete\n",
      "1100 complete\n",
      "1200 complete\n",
      "1300 complete\n",
      "1400 complete\n",
      "1500 complete\n",
      "1600 complete\n",
      "1700 complete\n",
      "1800 complete\n",
      "1900 complete\n",
      "2000 complete\n",
      "2100 complete\n",
      "2200 complete\n",
      "2300 complete\n",
      "2400 complete\n",
      "2500 complete\n",
      "2600 complete\n",
      "2700 complete\n",
      "2800 complete\n",
      "2900 complete\n",
      "3000 complete\n",
      "3100 complete\n",
      "3200 complete\n",
      "3300 complete\n",
      "3400 complete\n",
      "3500 complete\n",
      "3600 complete\n",
      "3700 complete\n",
      "3800 complete\n",
      "all complete\n"
     ]
    }
   ],
   "source": [
    "x = 0\n",
    "y = 100\n",
    "headers = ['zipcode', 'brewery_name']\n",
    "brewery_df = pd.DataFrame(columns=headers)\n",
    "\n",
    "while y<len(all_states_all_breweries):\n",
    "    brewery_data = brewery_dict(all_states_all_breweries[x:y])\n",
    "    print('%d complete' % y)\n",
    "    x += 100\n",
    "    y += 100\n",
    "    df = pd.DataFrame(brewery_data)\n",
    "    brewery_df = brewery_df.append(df)\n",
    "brewery_data = brewery_dict(all_states_all_breweries[y-100:])\n",
    "print('all complete')\n",
    "df = pd.DataFrame(brewery_data)\n",
    "brewery_df = brewery_df.append(df)"
   ]
  },
  {
   "cell_type": "code",
   "execution_count": null,
   "metadata": {
    "collapsed": true
   },
   "outputs": [],
   "source": []
  },
  {
   "cell_type": "code",
   "execution_count": 2406,
   "metadata": {
    "collapsed": false
   },
   "outputs": [
    {
     "data": {
      "text/html": [
       "<div>\n",
       "<table border=\"1\" class=\"dataframe\">\n",
       "  <thead>\n",
       "    <tr style=\"text-align: right;\">\n",
       "      <th></th>\n",
       "      <th>brewery_name</th>\n",
       "      <th>location</th>\n",
       "      <th>zipcode</th>\n",
       "    </tr>\n",
       "  </thead>\n",
       "  <tbody>\n",
       "    <tr>\n",
       "      <th>0</th>\n",
       "      <td>Good People Brewing Company</td>\n",
       "      <td>Birmingham, AL</td>\n",
       "      <td>35233</td>\n",
       "    </tr>\n",
       "    <tr>\n",
       "      <th>1</th>\n",
       "      <td>Straight To Ale</td>\n",
       "      <td>Huntsville, AL</td>\n",
       "      <td>35801</td>\n",
       "    </tr>\n",
       "    <tr>\n",
       "      <th>2</th>\n",
       "      <td>Good People Brewing Company</td>\n",
       "      <td>Birmingham, AL</td>\n",
       "      <td>35233</td>\n",
       "    </tr>\n",
       "    <tr>\n",
       "      <th>3</th>\n",
       "      <td>Good People Brewing Company</td>\n",
       "      <td>Birmingham, AL</td>\n",
       "      <td>35233</td>\n",
       "    </tr>\n",
       "    <tr>\n",
       "      <th>4</th>\n",
       "      <td>Good People Brewing Company</td>\n",
       "      <td>Birmingham, AL</td>\n",
       "      <td>35233</td>\n",
       "    </tr>\n",
       "  </tbody>\n",
       "</table>\n",
       "</div>"
      ],
      "text/plain": [
       "                  brewery_name        location zipcode\n",
       "0  Good People Brewing Company  Birmingham, AL   35233\n",
       "1              Straight To Ale  Huntsville, AL   35801\n",
       "2  Good People Brewing Company  Birmingham, AL   35233\n",
       "3  Good People Brewing Company  Birmingham, AL   35233\n",
       "4  Good People Brewing Company  Birmingham, AL   35233"
      ]
     },
     "execution_count": 2406,
     "metadata": {},
     "output_type": "execute_result"
    }
   ],
   "source": [
    "brewery_df.head()"
   ]
  },
  {
   "cell_type": "code",
   "execution_count": 2407,
   "metadata": {
    "collapsed": false
   },
   "outputs": [
    {
     "data": {
      "text/plain": [
       "(3824, 3)"
      ]
     },
     "execution_count": 2407,
     "metadata": {},
     "output_type": "execute_result"
    }
   ],
   "source": [
    "brewery_df.shape"
   ]
  },
  {
   "cell_type": "code",
   "execution_count": 2408,
   "metadata": {
    "collapsed": true
   },
   "outputs": [],
   "source": [
    "# save for posterity's sake\n",
    "brewery_df.to_csv('all_states_all_breweries.csv')\n",
    "brewery_df.to_pickle('breweries_master_df.pkl')"
   ]
  },
  {
   "cell_type": "code",
   "execution_count": null,
   "metadata": {
    "collapsed": true
   },
   "outputs": [],
   "source": []
  },
  {
   "cell_type": "markdown",
   "metadata": {},
   "source": [
    "## Data cleaning and feature engineering"
   ]
  },
  {
   "cell_type": "code",
   "execution_count": 1841,
   "metadata": {
    "collapsed": false
   },
   "outputs": [],
   "source": [
    "with open(\"breweries_master_df.pkl\", 'rb') as picklefile: \n",
    "    brewery_df = pickle.load(picklefile)"
   ]
  },
  {
   "cell_type": "code",
   "execution_count": 1842,
   "metadata": {
    "collapsed": false
   },
   "outputs": [
    {
     "data": {
      "text/html": [
       "<div>\n",
       "<table border=\"1\" class=\"dataframe\">\n",
       "  <thead>\n",
       "    <tr style=\"text-align: right;\">\n",
       "      <th></th>\n",
       "      <th>brewery_name</th>\n",
       "      <th>location</th>\n",
       "      <th>zipcode</th>\n",
       "    </tr>\n",
       "  </thead>\n",
       "  <tbody>\n",
       "    <tr>\n",
       "      <th>0</th>\n",
       "      <td>Good People Brewing Company</td>\n",
       "      <td>Birmingham, AL</td>\n",
       "      <td>35233</td>\n",
       "    </tr>\n",
       "    <tr>\n",
       "      <th>1</th>\n",
       "      <td>Straight To Ale</td>\n",
       "      <td>Huntsville, AL</td>\n",
       "      <td>35801</td>\n",
       "    </tr>\n",
       "    <tr>\n",
       "      <th>2</th>\n",
       "      <td>Good People Brewing Company</td>\n",
       "      <td>Birmingham, AL</td>\n",
       "      <td>35233</td>\n",
       "    </tr>\n",
       "    <tr>\n",
       "      <th>3</th>\n",
       "      <td>Good People Brewing Company</td>\n",
       "      <td>Birmingham, AL</td>\n",
       "      <td>35233</td>\n",
       "    </tr>\n",
       "    <tr>\n",
       "      <th>4</th>\n",
       "      <td>Good People Brewing Company</td>\n",
       "      <td>Birmingham, AL</td>\n",
       "      <td>35233</td>\n",
       "    </tr>\n",
       "  </tbody>\n",
       "</table>\n",
       "</div>"
      ],
      "text/plain": [
       "                  brewery_name        location zipcode\n",
       "0  Good People Brewing Company  Birmingham, AL   35233\n",
       "1              Straight To Ale  Huntsville, AL   35801\n",
       "2  Good People Brewing Company  Birmingham, AL   35233\n",
       "3  Good People Brewing Company  Birmingham, AL   35233\n",
       "4  Good People Brewing Company  Birmingham, AL   35233"
      ]
     },
     "execution_count": 1842,
     "metadata": {},
     "output_type": "execute_result"
    }
   ],
   "source": [
    "brewery_df.reset_index(drop = True, inplace = True)\n",
    "brewery_df.head()"
   ]
  },
  {
   "cell_type": "markdown",
   "metadata": {},
   "source": [
    "**Zipcodes**"
   ]
  },
  {
   "cell_type": "code",
   "execution_count": 1843,
   "metadata": {
    "collapsed": false
   },
   "outputs": [
    {
     "data": {
      "text/html": [
       "<div>\n",
       "<table border=\"1\" class=\"dataframe\">\n",
       "  <thead>\n",
       "    <tr style=\"text-align: right;\">\n",
       "      <th></th>\n",
       "      <th>brewery_name</th>\n",
       "      <th>location</th>\n",
       "      <th>zipcode</th>\n",
       "    </tr>\n",
       "  </thead>\n",
       "  <tbody>\n",
       "    <tr>\n",
       "      <th>789</th>\n",
       "      <td>O'Dempsey's</td>\n",
       "      <td>Atlanta, GA</td>\n",
       "      <td>None</td>\n",
       "    </tr>\n",
       "    <tr>\n",
       "      <th>3305</th>\n",
       "      <td>Utah Brewers Cooperative</td>\n",
       "      <td>UT</td>\n",
       "      <td>None</td>\n",
       "    </tr>\n",
       "    <tr>\n",
       "      <th>3309</th>\n",
       "      <td>Utah Brewers Cooperative</td>\n",
       "      <td>UT</td>\n",
       "      <td>None</td>\n",
       "    </tr>\n",
       "    <tr>\n",
       "      <th>3328</th>\n",
       "      <td>Utah Brewers Cooperative</td>\n",
       "      <td>UT</td>\n",
       "      <td>None</td>\n",
       "    </tr>\n",
       "    <tr>\n",
       "      <th>3335</th>\n",
       "      <td>Utah Brewers Cooperative</td>\n",
       "      <td>UT</td>\n",
       "      <td>None</td>\n",
       "    </tr>\n",
       "    <tr>\n",
       "      <th>3339</th>\n",
       "      <td>Utah Brewers Cooperative</td>\n",
       "      <td>UT</td>\n",
       "      <td>None</td>\n",
       "    </tr>\n",
       "    <tr>\n",
       "      <th>3342</th>\n",
       "      <td>Utah Brewers Cooperative</td>\n",
       "      <td>UT</td>\n",
       "      <td>None</td>\n",
       "    </tr>\n",
       "    <tr>\n",
       "      <th>3343</th>\n",
       "      <td>Utah Brewers Cooperative</td>\n",
       "      <td>UT</td>\n",
       "      <td>None</td>\n",
       "    </tr>\n",
       "    <tr>\n",
       "      <th>3344</th>\n",
       "      <td>Utah Brewers Cooperative</td>\n",
       "      <td>UT</td>\n",
       "      <td>None</td>\n",
       "    </tr>\n",
       "    <tr>\n",
       "      <th>3346</th>\n",
       "      <td>Utah Brewers Cooperative</td>\n",
       "      <td>UT</td>\n",
       "      <td>None</td>\n",
       "    </tr>\n",
       "    <tr>\n",
       "      <th>3347</th>\n",
       "      <td>Utah Brewers Cooperative</td>\n",
       "      <td>UT</td>\n",
       "      <td>None</td>\n",
       "    </tr>\n",
       "    <tr>\n",
       "      <th>3350</th>\n",
       "      <td>Utah Brewers Cooperative</td>\n",
       "      <td>UT</td>\n",
       "      <td>None</td>\n",
       "    </tr>\n",
       "    <tr>\n",
       "      <th>3351</th>\n",
       "      <td>Utah Brewers Cooperative</td>\n",
       "      <td>UT</td>\n",
       "      <td>None</td>\n",
       "    </tr>\n",
       "    <tr>\n",
       "      <th>3353</th>\n",
       "      <td>Utah Brewers Cooperative</td>\n",
       "      <td>UT</td>\n",
       "      <td>None</td>\n",
       "    </tr>\n",
       "    <tr>\n",
       "      <th>3355</th>\n",
       "      <td>Utah Brewers Cooperative</td>\n",
       "      <td>UT</td>\n",
       "      <td>None</td>\n",
       "    </tr>\n",
       "    <tr>\n",
       "      <th>3356</th>\n",
       "      <td>Utah Brewers Cooperative</td>\n",
       "      <td>UT</td>\n",
       "      <td>None</td>\n",
       "    </tr>\n",
       "    <tr>\n",
       "      <th>3363</th>\n",
       "      <td>Utah Brewers Cooperative</td>\n",
       "      <td>UT</td>\n",
       "      <td>None</td>\n",
       "    </tr>\n",
       "    <tr>\n",
       "      <th>3367</th>\n",
       "      <td>Utah Brewers Cooperative</td>\n",
       "      <td>UT</td>\n",
       "      <td>None</td>\n",
       "    </tr>\n",
       "    <tr>\n",
       "      <th>3372</th>\n",
       "      <td>Utah Brewers Cooperative</td>\n",
       "      <td>UT</td>\n",
       "      <td>None</td>\n",
       "    </tr>\n",
       "    <tr>\n",
       "      <th>3376</th>\n",
       "      <td>Utah Brewers Cooperative</td>\n",
       "      <td>UT</td>\n",
       "      <td>None</td>\n",
       "    </tr>\n",
       "    <tr>\n",
       "      <th>3379</th>\n",
       "      <td>Utah Brewers Cooperative</td>\n",
       "      <td>UT</td>\n",
       "      <td>None</td>\n",
       "    </tr>\n",
       "    <tr>\n",
       "      <th>3397</th>\n",
       "      <td>Utah Brewers Cooperative</td>\n",
       "      <td>UT</td>\n",
       "      <td>None</td>\n",
       "    </tr>\n",
       "  </tbody>\n",
       "</table>\n",
       "</div>"
      ],
      "text/plain": [
       "                  brewery_name     location zipcode\n",
       "789                O'Dempsey's  Atlanta, GA    None\n",
       "3305  Utah Brewers Cooperative           UT    None\n",
       "3309  Utah Brewers Cooperative           UT    None\n",
       "3328  Utah Brewers Cooperative           UT    None\n",
       "3335  Utah Brewers Cooperative           UT    None\n",
       "3339  Utah Brewers Cooperative           UT    None\n",
       "3342  Utah Brewers Cooperative           UT    None\n",
       "3343  Utah Brewers Cooperative           UT    None\n",
       "3344  Utah Brewers Cooperative           UT    None\n",
       "3346  Utah Brewers Cooperative           UT    None\n",
       "3347  Utah Brewers Cooperative           UT    None\n",
       "3350  Utah Brewers Cooperative           UT    None\n",
       "3351  Utah Brewers Cooperative           UT    None\n",
       "3353  Utah Brewers Cooperative           UT    None\n",
       "3355  Utah Brewers Cooperative           UT    None\n",
       "3356  Utah Brewers Cooperative           UT    None\n",
       "3363  Utah Brewers Cooperative           UT    None\n",
       "3367  Utah Brewers Cooperative           UT    None\n",
       "3372  Utah Brewers Cooperative           UT    None\n",
       "3376  Utah Brewers Cooperative           UT    None\n",
       "3379  Utah Brewers Cooperative           UT    None\n",
       "3397  Utah Brewers Cooperative           UT    None"
      ]
     },
     "execution_count": 1843,
     "metadata": {},
     "output_type": "execute_result"
    }
   ],
   "source": [
    "brewery_df[brewery_df.zipcode.isnull()]"
   ]
  },
  {
   "cell_type": "code",
   "execution_count": 1844,
   "metadata": {
    "collapsed": true
   },
   "outputs": [],
   "source": [
    "def add_zipcodes(x):\n",
    "    name = x.iloc[0]\n",
    "    if name == 'O\\'Dempsey\\'s':\n",
    "        return 30328\n",
    "    elif name == 'Utah Brewers Cooperative':\n",
    "        return 84115\n",
    "    else:\n",
    "        return x.iloc[2]"
   ]
  },
  {
   "cell_type": "code",
   "execution_count": 1845,
   "metadata": {
    "collapsed": true
   },
   "outputs": [],
   "source": [
    "brewery_df['zipcode'] = brewery_df.apply(add_zipcodes, axis=1)"
   ]
  },
  {
   "cell_type": "markdown",
   "metadata": {},
   "source": [
    "**Latitude and longitude**"
   ]
  },
  {
   "cell_type": "code",
   "execution_count": 1846,
   "metadata": {
    "collapsed": false
   },
   "outputs": [
    {
     "data": {
      "text/html": [
       "<div>\n",
       "<table border=\"1\" class=\"dataframe\">\n",
       "  <thead>\n",
       "    <tr style=\"text-align: right;\">\n",
       "      <th></th>\n",
       "      <th>brewery_name</th>\n",
       "      <th>location</th>\n",
       "      <th>zipcode</th>\n",
       "    </tr>\n",
       "  </thead>\n",
       "  <tbody>\n",
       "    <tr>\n",
       "      <th>0</th>\n",
       "      <td>Good People Brewing Company</td>\n",
       "      <td>Birmingham, AL</td>\n",
       "      <td>35233</td>\n",
       "    </tr>\n",
       "    <tr>\n",
       "      <th>1</th>\n",
       "      <td>Straight To Ale</td>\n",
       "      <td>Huntsville, AL</td>\n",
       "      <td>35801</td>\n",
       "    </tr>\n",
       "    <tr>\n",
       "      <th>2</th>\n",
       "      <td>Good People Brewing Company</td>\n",
       "      <td>Birmingham, AL</td>\n",
       "      <td>35233</td>\n",
       "    </tr>\n",
       "    <tr>\n",
       "      <th>3</th>\n",
       "      <td>Good People Brewing Company</td>\n",
       "      <td>Birmingham, AL</td>\n",
       "      <td>35233</td>\n",
       "    </tr>\n",
       "    <tr>\n",
       "      <th>4</th>\n",
       "      <td>Good People Brewing Company</td>\n",
       "      <td>Birmingham, AL</td>\n",
       "      <td>35233</td>\n",
       "    </tr>\n",
       "  </tbody>\n",
       "</table>\n",
       "</div>"
      ],
      "text/plain": [
       "                  brewery_name        location zipcode\n",
       "0  Good People Brewing Company  Birmingham, AL   35233\n",
       "1              Straight To Ale  Huntsville, AL   35801\n",
       "2  Good People Brewing Company  Birmingham, AL   35233\n",
       "3  Good People Brewing Company  Birmingham, AL   35233\n",
       "4  Good People Brewing Company  Birmingham, AL   35233"
      ]
     },
     "execution_count": 1846,
     "metadata": {},
     "output_type": "execute_result"
    }
   ],
   "source": [
    "brewery_df.head()"
   ]
  },
  {
   "cell_type": "code",
   "execution_count": 1847,
   "metadata": {
    "collapsed": false
   },
   "outputs": [],
   "source": [
    "def lat(x):\n",
    "    myzip = zipcode.isequal(str(x))\n",
    "    try:\n",
    "        lat = myzip.lat\n",
    "        return lat\n",
    "    except:\n",
    "        pass\n",
    "\n",
    "def lon(x):\n",
    "    myzip = zipcode.isequal(str(x))\n",
    "    try:\n",
    "        lon = myzip.lon\n",
    "        return lon        \n",
    "    except:\n",
    "        pass"
   ]
  },
  {
   "cell_type": "code",
   "execution_count": 1848,
   "metadata": {
    "collapsed": false
   },
   "outputs": [],
   "source": [
    "brewery_df['lat'] = brewery_df['zipcode'].map(lat)\n",
    "brewery_df['lon'] = brewery_df['zipcode'].map(lon)"
   ]
  },
  {
   "cell_type": "code",
   "execution_count": 1849,
   "metadata": {
    "collapsed": true
   },
   "outputs": [],
   "source": [
    "brewery_df.to_pickle('breweries_clean_master_df.pkl')"
   ]
  },
  {
   "cell_type": "markdown",
   "metadata": {},
   "source": [
    "### Merge into all beers dataset"
   ]
  },
  {
   "cell_type": "code",
   "execution_count": 1850,
   "metadata": {
    "collapsed": true
   },
   "outputs": [],
   "source": [
    "with open(\"beers_master_df.pkl\", 'rb') as picklefile: \n",
    "    beers_df = pickle.load(picklefile)"
   ]
  },
  {
   "cell_type": "code",
   "execution_count": 1851,
   "metadata": {
    "collapsed": true
   },
   "outputs": [],
   "source": [
    "with open(\"breweries_clean_master_df.pkl\", 'rb') as picklefile: \n",
    "    brewery_df = pickle.load(picklefile)"
   ]
  },
  {
   "cell_type": "code",
   "execution_count": 1852,
   "metadata": {
    "collapsed": false
   },
   "outputs": [
    {
     "data": {
      "text/plain": [
       "(3824, 8)"
      ]
     },
     "execution_count": 1852,
     "metadata": {},
     "output_type": "execute_result"
    }
   ],
   "source": [
    "beers_df.shape"
   ]
  },
  {
   "cell_type": "code",
   "execution_count": 1853,
   "metadata": {
    "collapsed": false
   },
   "outputs": [
    {
     "data": {
      "text/plain": [
       "(3824, 5)"
      ]
     },
     "execution_count": 1853,
     "metadata": {},
     "output_type": "execute_result"
    }
   ],
   "source": [
    "brewery_df.shape"
   ]
  },
  {
   "cell_type": "code",
   "execution_count": 1854,
   "metadata": {
    "collapsed": false
   },
   "outputs": [],
   "source": [
    "df = pd.concat([beers_df.reset_index(),brewery_df],axis=1)"
   ]
  },
  {
   "cell_type": "code",
   "execution_count": 1855,
   "metadata": {
    "collapsed": false
   },
   "outputs": [],
   "source": [
    "df = df.iloc[:, 1:]"
   ]
  },
  {
   "cell_type": "code",
   "execution_count": 1856,
   "metadata": {
    "collapsed": false
   },
   "outputs": [
    {
     "data": {
      "text/plain": [
       "(3824, 13)"
      ]
     },
     "execution_count": 1856,
     "metadata": {},
     "output_type": "execute_result"
    }
   ],
   "source": [
    "df.shape"
   ]
  },
  {
   "cell_type": "code",
   "execution_count": 1857,
   "metadata": {
    "collapsed": false
   },
   "outputs": [
    {
     "data": {
      "text/html": [
       "<div>\n",
       "<table border=\"1\" class=\"dataframe\">\n",
       "  <thead>\n",
       "    <tr style=\"text-align: right;\">\n",
       "      <th></th>\n",
       "      <th>abv</th>\n",
       "      <th>brewery</th>\n",
       "      <th>country</th>\n",
       "      <th>name</th>\n",
       "      <th>rating</th>\n",
       "      <th>state</th>\n",
       "      <th>style</th>\n",
       "      <th>year</th>\n",
       "      <th>brewery_name</th>\n",
       "      <th>location</th>\n",
       "      <th>zipcode</th>\n",
       "      <th>lat</th>\n",
       "      <th>lon</th>\n",
       "    </tr>\n",
       "  </thead>\n",
       "  <tbody>\n",
       "    <tr>\n",
       "      <th>0</th>\n",
       "      <td>13.90%</td>\n",
       "      <td>Good People Brewing Company</td>\n",
       "      <td>United States</td>\n",
       "      <td>El Gordo</td>\n",
       "      <td>4.45</td>\n",
       "      <td>Alabama</td>\n",
       "      <td>Russian Imperial Stout</td>\n",
       "      <td>2010.0</td>\n",
       "      <td>Good People Brewing Company</td>\n",
       "      <td>Birmingham, AL</td>\n",
       "      <td>35233</td>\n",
       "      <td>33.52</td>\n",
       "      <td>-86.79</td>\n",
       "    </tr>\n",
       "    <tr>\n",
       "      <th>1</th>\n",
       "      <td>11.70%</td>\n",
       "      <td>Straight To Ale</td>\n",
       "      <td>United States</td>\n",
       "      <td>Cabernet Barrel-Aged Laika Stout</td>\n",
       "      <td>4.3</td>\n",
       "      <td>Alabama</td>\n",
       "      <td>Russian Imperial Stout</td>\n",
       "      <td>2013.0</td>\n",
       "      <td>Straight To Ale</td>\n",
       "      <td>Huntsville, AL</td>\n",
       "      <td>35801</td>\n",
       "      <td>34.70</td>\n",
       "      <td>-86.62</td>\n",
       "    </tr>\n",
       "    <tr>\n",
       "      <th>2</th>\n",
       "      <td>7.40%</td>\n",
       "      <td>Good People Brewing Company</td>\n",
       "      <td>United States</td>\n",
       "      <td>Hitchhiker</td>\n",
       "      <td>4.33</td>\n",
       "      <td>Alabama</td>\n",
       "      <td>American IPA</td>\n",
       "      <td>2010.0</td>\n",
       "      <td>Good People Brewing Company</td>\n",
       "      <td>Birmingham, AL</td>\n",
       "      <td>35233</td>\n",
       "      <td>33.52</td>\n",
       "      <td>-86.79</td>\n",
       "    </tr>\n",
       "    <tr>\n",
       "      <th>3</th>\n",
       "      <td>10.00%</td>\n",
       "      <td>Good People Brewing Company</td>\n",
       "      <td>United States</td>\n",
       "      <td>Snake Handler Double IPA</td>\n",
       "      <td>4.16</td>\n",
       "      <td>Alabama</td>\n",
       "      <td>American Double / Imperial IPA</td>\n",
       "      <td>2009.0</td>\n",
       "      <td>Good People Brewing Company</td>\n",
       "      <td>Birmingham, AL</td>\n",
       "      <td>35233</td>\n",
       "      <td>33.52</td>\n",
       "      <td>-86.79</td>\n",
       "    </tr>\n",
       "    <tr>\n",
       "      <th>4</th>\n",
       "      <td>8.50%</td>\n",
       "      <td>Good People Brewing Company</td>\n",
       "      <td>United States</td>\n",
       "      <td>Fatso</td>\n",
       "      <td>4.22</td>\n",
       "      <td>Alabama</td>\n",
       "      <td>Russian Imperial Stout</td>\n",
       "      <td>2009.0</td>\n",
       "      <td>Good People Brewing Company</td>\n",
       "      <td>Birmingham, AL</td>\n",
       "      <td>35233</td>\n",
       "      <td>33.52</td>\n",
       "      <td>-86.79</td>\n",
       "    </tr>\n",
       "  </tbody>\n",
       "</table>\n",
       "</div>"
      ],
      "text/plain": [
       "      abv                      brewery        country  \\\n",
       "0  13.90%  Good People Brewing Company  United States   \n",
       "1  11.70%              Straight To Ale  United States   \n",
       "2   7.40%  Good People Brewing Company  United States   \n",
       "3  10.00%  Good People Brewing Company  United States   \n",
       "4   8.50%  Good People Brewing Company  United States   \n",
       "\n",
       "                               name rating    state  \\\n",
       "0                          El Gordo   4.45  Alabama   \n",
       "1  Cabernet Barrel-Aged Laika Stout    4.3  Alabama   \n",
       "2                        Hitchhiker   4.33  Alabama   \n",
       "3          Snake Handler Double IPA   4.16  Alabama   \n",
       "4                             Fatso   4.22  Alabama   \n",
       "\n",
       "                            style    year                 brewery_name  \\\n",
       "0          Russian Imperial Stout  2010.0  Good People Brewing Company   \n",
       "1          Russian Imperial Stout  2013.0              Straight To Ale   \n",
       "2                    American IPA  2010.0  Good People Brewing Company   \n",
       "3  American Double / Imperial IPA  2009.0  Good People Brewing Company   \n",
       "4          Russian Imperial Stout  2009.0  Good People Brewing Company   \n",
       "\n",
       "         location zipcode    lat    lon  \n",
       "0  Birmingham, AL   35233  33.52 -86.79  \n",
       "1  Huntsville, AL   35801  34.70 -86.62  \n",
       "2  Birmingham, AL   35233  33.52 -86.79  \n",
       "3  Birmingham, AL   35233  33.52 -86.79  \n",
       "4  Birmingham, AL   35233  33.52 -86.79  "
      ]
     },
     "execution_count": 1857,
     "metadata": {},
     "output_type": "execute_result"
    }
   ],
   "source": [
    "df.head()"
   ]
  },
  {
   "cell_type": "code",
   "execution_count": 1858,
   "metadata": {
    "collapsed": false
   },
   "outputs": [],
   "source": [
    "df.drop('brewery_name', 1, inplace = True)"
   ]
  },
  {
   "cell_type": "code",
   "execution_count": 1859,
   "metadata": {
    "collapsed": true
   },
   "outputs": [],
   "source": [
    "df.rename(columns={\"style\": \"beer_style\"}, inplace = True)"
   ]
  },
  {
   "cell_type": "code",
   "execution_count": 1860,
   "metadata": {
    "collapsed": false
   },
   "outputs": [
    {
     "data": {
      "text/html": [
       "<div>\n",
       "<table border=\"1\" class=\"dataframe\">\n",
       "  <thead>\n",
       "    <tr style=\"text-align: right;\">\n",
       "      <th></th>\n",
       "      <th>abv</th>\n",
       "      <th>brewery</th>\n",
       "      <th>country</th>\n",
       "      <th>name</th>\n",
       "      <th>rating</th>\n",
       "      <th>state</th>\n",
       "      <th>beer_style</th>\n",
       "      <th>year</th>\n",
       "      <th>location</th>\n",
       "      <th>zipcode</th>\n",
       "      <th>lat</th>\n",
       "      <th>lon</th>\n",
       "    </tr>\n",
       "  </thead>\n",
       "  <tbody>\n",
       "    <tr>\n",
       "      <th>0</th>\n",
       "      <td>13.90%</td>\n",
       "      <td>Good People Brewing Company</td>\n",
       "      <td>United States</td>\n",
       "      <td>El Gordo</td>\n",
       "      <td>4.45</td>\n",
       "      <td>Alabama</td>\n",
       "      <td>Russian Imperial Stout</td>\n",
       "      <td>2010.0</td>\n",
       "      <td>Birmingham, AL</td>\n",
       "      <td>35233</td>\n",
       "      <td>33.52</td>\n",
       "      <td>-86.79</td>\n",
       "    </tr>\n",
       "    <tr>\n",
       "      <th>1</th>\n",
       "      <td>11.70%</td>\n",
       "      <td>Straight To Ale</td>\n",
       "      <td>United States</td>\n",
       "      <td>Cabernet Barrel-Aged Laika Stout</td>\n",
       "      <td>4.3</td>\n",
       "      <td>Alabama</td>\n",
       "      <td>Russian Imperial Stout</td>\n",
       "      <td>2013.0</td>\n",
       "      <td>Huntsville, AL</td>\n",
       "      <td>35801</td>\n",
       "      <td>34.70</td>\n",
       "      <td>-86.62</td>\n",
       "    </tr>\n",
       "    <tr>\n",
       "      <th>2</th>\n",
       "      <td>7.40%</td>\n",
       "      <td>Good People Brewing Company</td>\n",
       "      <td>United States</td>\n",
       "      <td>Hitchhiker</td>\n",
       "      <td>4.33</td>\n",
       "      <td>Alabama</td>\n",
       "      <td>American IPA</td>\n",
       "      <td>2010.0</td>\n",
       "      <td>Birmingham, AL</td>\n",
       "      <td>35233</td>\n",
       "      <td>33.52</td>\n",
       "      <td>-86.79</td>\n",
       "    </tr>\n",
       "    <tr>\n",
       "      <th>3</th>\n",
       "      <td>10.00%</td>\n",
       "      <td>Good People Brewing Company</td>\n",
       "      <td>United States</td>\n",
       "      <td>Snake Handler Double IPA</td>\n",
       "      <td>4.16</td>\n",
       "      <td>Alabama</td>\n",
       "      <td>American Double / Imperial IPA</td>\n",
       "      <td>2009.0</td>\n",
       "      <td>Birmingham, AL</td>\n",
       "      <td>35233</td>\n",
       "      <td>33.52</td>\n",
       "      <td>-86.79</td>\n",
       "    </tr>\n",
       "    <tr>\n",
       "      <th>4</th>\n",
       "      <td>8.50%</td>\n",
       "      <td>Good People Brewing Company</td>\n",
       "      <td>United States</td>\n",
       "      <td>Fatso</td>\n",
       "      <td>4.22</td>\n",
       "      <td>Alabama</td>\n",
       "      <td>Russian Imperial Stout</td>\n",
       "      <td>2009.0</td>\n",
       "      <td>Birmingham, AL</td>\n",
       "      <td>35233</td>\n",
       "      <td>33.52</td>\n",
       "      <td>-86.79</td>\n",
       "    </tr>\n",
       "  </tbody>\n",
       "</table>\n",
       "</div>"
      ],
      "text/plain": [
       "      abv                      brewery        country  \\\n",
       "0  13.90%  Good People Brewing Company  United States   \n",
       "1  11.70%              Straight To Ale  United States   \n",
       "2   7.40%  Good People Brewing Company  United States   \n",
       "3  10.00%  Good People Brewing Company  United States   \n",
       "4   8.50%  Good People Brewing Company  United States   \n",
       "\n",
       "                               name rating    state  \\\n",
       "0                          El Gordo   4.45  Alabama   \n",
       "1  Cabernet Barrel-Aged Laika Stout    4.3  Alabama   \n",
       "2                        Hitchhiker   4.33  Alabama   \n",
       "3          Snake Handler Double IPA   4.16  Alabama   \n",
       "4                             Fatso   4.22  Alabama   \n",
       "\n",
       "                       beer_style    year        location zipcode    lat  \\\n",
       "0          Russian Imperial Stout  2010.0  Birmingham, AL   35233  33.52   \n",
       "1          Russian Imperial Stout  2013.0  Huntsville, AL   35801  34.70   \n",
       "2                    American IPA  2010.0  Birmingham, AL   35233  33.52   \n",
       "3  American Double / Imperial IPA  2009.0  Birmingham, AL   35233  33.52   \n",
       "4          Russian Imperial Stout  2009.0  Birmingham, AL   35233  33.52   \n",
       "\n",
       "     lon  \n",
       "0 -86.79  \n",
       "1 -86.62  \n",
       "2 -86.79  \n",
       "3 -86.79  \n",
       "4 -86.79  "
      ]
     },
     "execution_count": 1860,
     "metadata": {},
     "output_type": "execute_result"
    }
   ],
   "source": [
    "df.head()"
   ]
  },
  {
   "cell_type": "markdown",
   "metadata": {},
   "source": [
    "**ABV**"
   ]
  },
  {
   "cell_type": "code",
   "execution_count": 1861,
   "metadata": {
    "collapsed": false
   },
   "outputs": [],
   "source": [
    "df['abv'] = df['abv'].str.replace('%', '')\n",
    "# many abv's are not listed and show up as 'not'\n",
    "# note: setting to zero for now (note: change later)\n",
    "df['abv'] = df['abv'].replace('not', '0')\n",
    "# remove outlier\n",
    "df['abv'] = df['abv'].replace('29.00', '0')\n",
    "df['abv'] = pd.to_numeric(df.abv)"
   ]
  },
  {
   "cell_type": "code",
   "execution_count": 1862,
   "metadata": {
    "collapsed": false
   },
   "outputs": [],
   "source": [
    "# later date: use Imputer for imputing missing abv values based on average for group\n",
    "# from sklearn.preprocessing import Imputer\n",
    "# df['abv'] = df['abv'].str.replace('%', '')\n",
    "# df['abv'] = df['abv'].replace('not', np.nan)\n",
    "# #df[df.abv.isnull()]\n",
    "# #Imputer(missing_values='NaN', strategy='mean', axis=0, verbose=0, copy=True)"
   ]
  },
  {
   "cell_type": "code",
   "execution_count": null,
   "metadata": {
    "collapsed": true
   },
   "outputs": [],
   "source": []
  },
  {
   "cell_type": "markdown",
   "metadata": {},
   "source": [
    "**Year**"
   ]
  },
  {
   "cell_type": "code",
   "execution_count": 1863,
   "metadata": {
    "collapsed": true
   },
   "outputs": [],
   "source": [
    "df['year'] = df.year.astype(int)"
   ]
  },
  {
   "cell_type": "code",
   "execution_count": 1864,
   "metadata": {
    "collapsed": false
   },
   "outputs": [
    {
     "data": {
      "text/plain": [
       "array([1998, 1999, 2000, 2001, 2002, 2003, 2004, 2005, 2006, 2007, 2008,\n",
       "       2009, 2010, 2011, 2012, 2013, 2014, 2015, 2016, 2017])"
      ]
     },
     "execution_count": 1864,
     "metadata": {},
     "output_type": "execute_result"
    }
   ],
   "source": [
    "# 20 years of beer\n",
    "df.year.sort_values().unique()"
   ]
  },
  {
   "cell_type": "markdown",
   "metadata": {},
   "source": [
    "**Rating**"
   ]
  },
  {
   "cell_type": "code",
   "execution_count": 1865,
   "metadata": {
    "collapsed": true
   },
   "outputs": [],
   "source": [
    "df['rating'] = pd.to_numeric(df.rating)"
   ]
  },
  {
   "cell_type": "code",
   "execution_count": 1866,
   "metadata": {
    "collapsed": false
   },
   "outputs": [
    {
     "data": {
      "text/plain": [
       "count    3824.000000\n",
       "mean        4.052100\n",
       "std         0.323076\n",
       "min         1.840000\n",
       "25%         3.870000\n",
       "50%         4.090000\n",
       "75%         4.272500\n",
       "max         4.850000\n",
       "Name: rating, dtype: float64"
      ]
     },
     "execution_count": 1866,
     "metadata": {},
     "output_type": "execute_result"
    }
   ],
   "source": [
    "df.rating.describe()"
   ]
  },
  {
   "cell_type": "code",
   "execution_count": 1867,
   "metadata": {
    "collapsed": false
   },
   "outputs": [
    {
     "data": {
      "text/plain": [
       "<matplotlib.axes._subplots.AxesSubplot at 0x143f44fd0>"
      ]
     },
     "execution_count": 1867,
     "metadata": {},
     "output_type": "execute_result"
    },
    {
     "data": {
      "image/png": "[encoded data removed]",
      "text/plain": [
       "<matplotlib.figure.Figure at 0x142827be0>"
      ]
     },
     "metadata": {},
     "output_type": "display_data"
    }
   ],
   "source": [
    "df.rating.hist()"
   ]
  },
  {
   "cell_type": "code",
   "execution_count": 1868,
   "metadata": {
    "collapsed": false
   },
   "outputs": [
    {
     "data": {
      "text/plain": [
       "array(['United States', None], dtype=object)"
      ]
     },
     "execution_count": 1868,
     "metadata": {},
     "output_type": "execute_result"
    }
   ],
   "source": [
    "# all US data right now so can exclude this from models\n",
    "df.country.unique()"
   ]
  },
  {
   "cell_type": "markdown",
   "metadata": {},
   "source": [
    "**Brew counts (brewery size proxy)**"
   ]
  },
  {
   "cell_type": "code",
   "execution_count": 1869,
   "metadata": {
    "collapsed": false
   },
   "outputs": [
    {
     "data": {
      "text/plain": [
       "brewery\n",
       "Hill Farmstead Brewery              62\n",
       "Dogfish Head Craft Brewery          51\n",
       "3 Floyds Brewing Co.                49\n",
       "Trillium Brewing Company            47\n",
       "Wicked Weed Brewing                 44\n",
       "Prairie Artisan Ales                41\n",
       "Tree House Brewing Company          40\n",
       "Epic Brewing Company                37\n",
       "Cigar City Brewing                  36\n",
       "Pipeworks Brewing Company           36\n",
       "Allagash Brewing Company            36\n",
       "Toppling Goliath Brewing Company    34\n",
       "Abita Brewing Co.                   33\n",
       "Carton Brewing Company              29\n",
       "Smuttynose Brewing Company          29\n",
       "Stillwater Artisanal Ales           27\n",
       "Jackie O's Pub & Brewery            26\n",
       "Jester King Brewery                 26\n",
       "Other Half Brewing Co.              25\n",
       "New Glarus Brewing Company          25\n",
       "Uinta Brewing Company               25\n",
       "Midnight Sun Brewing Co.            24\n",
       "Tired Hands Brewing Company         24\n",
       "Surly Brewing Company               24\n",
       "Alaskan Brewing Co.                 22\n",
       "Boulevard Brewing Co.               22\n",
       "de Garde Brewing                    22\n",
       "Westbrook Brewing Co.               22\n",
       "Tallgrass Brewing Company           22\n",
       "Utah Brewers Cooperative            21\n",
       "Name: rating, dtype: int64"
      ]
     },
     "execution_count": 1869,
     "metadata": {},
     "output_type": "execute_result"
    }
   ],
   "source": [
    "df.groupby('brewery')['rating'].count().sort_values(ascending = False).head(30)"
   ]
  },
  {
   "cell_type": "code",
   "execution_count": 1870,
   "metadata": {
    "collapsed": true
   },
   "outputs": [],
   "source": [
    "df['brew_counts'] = df.groupby(['brewery'])['rating'].transform('count')"
   ]
  },
  {
   "cell_type": "markdown",
   "metadata": {},
   "source": [
    "**Avg rating (of other beers at brewery)**"
   ]
  },
  {
   "cell_type": "code",
   "execution_count": 1871,
   "metadata": {
    "collapsed": false
   },
   "outputs": [],
   "source": [
    "# df.groupby('brewery')['rating'].mean().sort_values(ascending = False).head(30)"
   ]
  },
  {
   "cell_type": "code",
   "execution_count": 1872,
   "metadata": {
    "collapsed": false
   },
   "outputs": [],
   "source": [
    "df['brewery_avg_rating'] = df.groupby(['brewery'])['rating'].transform('mean')"
   ]
  },
  {
   "cell_type": "code",
   "execution_count": 1873,
   "metadata": {
    "collapsed": true
   },
   "outputs": [],
   "source": [
    "# prevent data leakage (from target into training data) and get brewery rating for all other beers by that brewery\n",
    "df['brewery_avg_rating2'] = ((df.brewery_avg_rating * df.brew_counts) - df.rating) / (df.brew_counts - 1)\n",
    "# this sets missing values for all breweries with one beer"
   ]
  },
  {
   "cell_type": "code",
   "execution_count": 1874,
   "metadata": {
    "collapsed": false
   },
   "outputs": [],
   "source": [
    "# df[df.brewery_avg_rating2.isnull()]"
   ]
  },
  {
   "cell_type": "code",
   "execution_count": 1875,
   "metadata": {
    "collapsed": true
   },
   "outputs": [],
   "source": [
    "ratings_by_brewery = df.groupby(['brewery_avg_rating2'])['rating'].transform('mean')"
   ]
  },
  {
   "cell_type": "code",
   "execution_count": 1876,
   "metadata": {
    "collapsed": false
   },
   "outputs": [
    {
     "data": {
      "text/plain": [
       "count    3568.000000\n",
       "mean        4.051757\n",
       "std         0.317286\n",
       "min         1.840000\n",
       "25%         3.870000\n",
       "50%         4.100000\n",
       "75%         4.270000\n",
       "max         4.840000\n",
       "Name: rating, dtype: float64"
      ]
     },
     "execution_count": 1876,
     "metadata": {},
     "output_type": "execute_result"
    }
   ],
   "source": [
    "ratings_by_brewery.describe()"
   ]
  },
  {
   "cell_type": "code",
   "execution_count": 1877,
   "metadata": {
    "collapsed": true
   },
   "outputs": [],
   "source": [
    "mean = ratings_by_brewery.mean()"
   ]
  },
  {
   "cell_type": "code",
   "execution_count": 1878,
   "metadata": {
    "collapsed": true
   },
   "outputs": [],
   "source": [
    "df.drop('brewery_avg_rating', 1, inplace = True)"
   ]
  },
  {
   "cell_type": "code",
   "execution_count": 1879,
   "metadata": {
    "collapsed": true
   },
   "outputs": [],
   "source": [
    "df['brewery_avg_rating2'].fillna(mean, inplace = True)\n",
    "# replacing with mean for (256) breweries with only one beer (avoid missing values)\n",
    "\n",
    "# initial test used zero as a starting point (results is lower R2 in linear regression)\n",
    "# df['brewery_avg_rating2'].fillna(0, inplace = True)"
   ]
  },
  {
   "cell_type": "markdown",
   "metadata": {},
   "source": [
    "**Beer style taxonomy: take 1**"
   ]
  },
  {
   "cell_type": "code",
   "execution_count": 1880,
   "metadata": {
    "collapsed": false
   },
   "outputs": [],
   "source": [
    "# df.beer_style.unique()"
   ]
  },
  {
   "cell_type": "code",
   "execution_count": 1881,
   "metadata": {
    "collapsed": true
   },
   "outputs": [],
   "source": [
    "# beer taxonomy"
   ]
  },
  {
   "cell_type": "code",
   "execution_count": 1882,
   "metadata": {
    "collapsed": true
   },
   "outputs": [],
   "source": [
    "american_ales = ['American Amber / Red Ale',\n",
    "                    'American Barleywine',\n",
    "                    'American Black Ale',\n",
    "                    'American Blonde Ale',\n",
    "                    'American Brown Ale',\n",
    "                    'American Dark Wheat Ale',\n",
    "                    'American Double / Imperial IPA',\n",
    "                    'American Double / Imperial Stout',\n",
    "                    'American IPA',\n",
    "                    'American Pale Ale (APA)',\n",
    "                    'American Pale Wheat Ale',\n",
    "                    'American Porter',\n",
    "                    'American Stout',\n",
    "                    'American Strong Ale',\n",
    "                    'American Wild Ale',\n",
    "                    'Black & Tan',\n",
    "                    'Chile Beer',\n",
    "                    'Cream Ale',\n",
    "                    'Pumpkin Ale',\n",
    "                    'Rye Beer',\n",
    "                    'Wheatwine']"
   ]
  },
  {
   "cell_type": "code",
   "execution_count": 1883,
   "metadata": {
    "collapsed": true
   },
   "outputs": [],
   "source": [
    "belgian_french_ales = ['Belgian Dark Ale',\n",
    "                        'Belgian IPA',\n",
    "                        'Belgian Pale Ale',\n",
    "                        'Belgian Strong Dark Ale',\n",
    "                        'Belgian Strong Pale Ale',\n",
    "                        'Bière de Champagne / Bière Brut',\n",
    "                        'Bière de Garde',\n",
    "                        'Dubbel',\n",
    "                        'Faro',\n",
    "                        'Flanders Oud Bruin',\n",
    "                        'Flanders Red Ale',\n",
    "                        'Gueuze',\n",
    "                        'Lambic - Fruit',\n",
    "                        'Lambic - Unblended',\n",
    "                        'Quadrupel (Quad)',\n",
    "                        'Saison / Farmhouse Ale',\n",
    "                        'Tripel',\n",
    "                        'Witbier']"
   ]
  },
  {
   "cell_type": "code",
   "execution_count": 1884,
   "metadata": {
    "collapsed": true
   },
   "outputs": [],
   "source": [
    "english_ales = ['Baltic Porter',\n",
    "                'Braggot',\n",
    "                'English Barleywine',\n",
    "                'English Bitter',\n",
    "                'English Brown Ale',\n",
    "                'English Dark Mild Ale',\n",
    "                'English India Pale Ale (IPA)',\n",
    "                'English Pale Ale',\n",
    "                'English Pale Mild Ale',\n",
    "                'English Porter',\n",
    "                'English Stout',\n",
    "                'English Strong Ale',\n",
    "                'Extra Special / Strong Bitter (ESB)',\n",
    "                'Foreign / Export Stout',\n",
    "                'Milk / Sweet Stout',\n",
    "                'Oatmeal Stout',\n",
    "                'Old Ale',\n",
    "                'Russian Imperial Stout',\n",
    "                'Winter Warmer']"
   ]
  },
  {
   "cell_type": "code",
   "execution_count": 1885,
   "metadata": {
    "collapsed": true
   },
   "outputs": [],
   "source": [
    "finnish_ales = ['Sahti']"
   ]
  },
  {
   "cell_type": "code",
   "execution_count": 1886,
   "metadata": {
    "collapsed": true
   },
   "outputs": [],
   "source": [
    "german_ales = ['Altbier',\n",
    "                'Berliner Weissbier',\n",
    "                'Dunkelweizen',\n",
    "                'Gose',\n",
    "                'Hefeweizen',\n",
    "                'Kölsch',\n",
    "                'Kristalweizen',\n",
    "                'Roggenbier',\n",
    "                'Weizenbock']"
   ]
  },
  {
   "cell_type": "code",
   "execution_count": 1887,
   "metadata": {
    "collapsed": true
   },
   "outputs": [],
   "source": [
    "irish_ales = ['Irish Dry Stout', 'Irish Red Ale']"
   ]
  },
  {
   "cell_type": "code",
   "execution_count": 1888,
   "metadata": {
    "collapsed": true
   },
   "outputs": [],
   "source": [
    "russian_ales = ['Kvass']"
   ]
  },
  {
   "cell_type": "code",
   "execution_count": 1889,
   "metadata": {
    "collapsed": true
   },
   "outputs": [],
   "source": [
    "scottish_ales = ['Scotch Ale / Wee Heavy',\n",
    "                'Scottish Ale',\n",
    "                'Scottish Gruit / Ancient Herbed Ale']"
   ]
  },
  {
   "cell_type": "code",
   "execution_count": 1890,
   "metadata": {
    "collapsed": true
   },
   "outputs": [],
   "source": [
    "american_lagers = ['American Adjunct Lager',\n",
    "                    'American Amber / Red Lager',\n",
    "                    'American Double / Imperial Pilsner',\n",
    "                    'American Malt Liquor',\n",
    "                    'American Pale Lager',\n",
    "                    'California Common / Steam Beer',\n",
    "                    'Light Lager',\n",
    "                    'Low Alcohol Beer']"
   ]
  },
  {
   "cell_type": "code",
   "execution_count": 1891,
   "metadata": {
    "collapsed": true
   },
   "outputs": [],
   "source": [
    "czech_lagers = ['Czech Pilsener']"
   ]
  },
  {
   "cell_type": "code",
   "execution_count": 1892,
   "metadata": {
    "collapsed": true
   },
   "outputs": [],
   "source": [
    "european_lagers = ['Euro Dark Lager',\n",
    "                    'Euro Pale Lager',\n",
    "                    'Euro Strong Lager']"
   ]
  },
  {
   "cell_type": "code",
   "execution_count": 1893,
   "metadata": {
    "collapsed": true
   },
   "outputs": [],
   "source": [
    "german_lagers = ['Bock',\n",
    "                'Doppelbock',\n",
    "                'Dortmunder / Export Lager',\n",
    "                'Eisbock',\n",
    "                'German Pilsener',\n",
    "                'Kellerbier / Zwickelbier',\n",
    "                'Maibock / Helles Bock',\n",
    "                'Märzen / Oktoberfest',\n",
    "                'Munich Dunkel Lager',\n",
    "                'Munich Helles Lager',\n",
    "                'Rauchbier',\n",
    "                'Schwarzbier',\n",
    "                'Vienna Lager']"
   ]
  },
  {
   "cell_type": "code",
   "execution_count": 1894,
   "metadata": {
    "collapsed": true
   },
   "outputs": [],
   "source": [
    "japanese_lagers = ['Happoshu', 'Japanese Rice Lager']"
   ]
  },
  {
   "cell_type": "code",
   "execution_count": 1895,
   "metadata": {
    "collapsed": true
   },
   "outputs": [],
   "source": [
    "hybrid_beers = ['Fruit / Vegetable Beer',\n",
    "                'Herbed / Spiced Beer',\n",
    "                'Smoked Beer']"
   ]
  },
  {
   "cell_type": "code",
   "execution_count": 1896,
   "metadata": {
    "collapsed": false
   },
   "outputs": [],
   "source": [
    "ales = [american_ales, belgian_french_ales, english_ales, finnish_ales, german_ales, irish_ales, \n",
    "                 russian_ales, scottish_ales]\n",
    "lagers = [american_lagers, czech_lagers, european_lagers, german_lagers, japanese_lagers]\n",
    "# hybrid_beers"
   ]
  },
  {
   "cell_type": "code",
   "execution_count": 1897,
   "metadata": {
    "collapsed": false
   },
   "outputs": [],
   "source": [
    "df['american_ale'] = 0\n",
    "df['american_ale'] = df['beer_style'].map(lambda x: 1 if x in american_ales else 0)\n",
    "\n",
    "df['belgian_french_ale'] = 0\n",
    "df['belgian_french_ale'] = df['beer_style'].map(lambda x: 1 if x in belgian_french_ales else 0)\n",
    "\n",
    "df['english_ale'] = 0\n",
    "df['english_ale'] = df['beer_style'].map(lambda x: 1 if x in english_ales else 0)\n",
    "\n",
    "df['finnish_ale'] = 0\n",
    "df['finnish_ale'] = df['beer_style'].map(lambda x: 1 if x in finnish_ales else 0)\n",
    "\n",
    "df['german_ale'] = 0\n",
    "df['german_ale'] = df['beer_style'].map(lambda x: 1 if x in german_ales else 0)\n",
    "\n",
    "df['irish_ale'] = 0\n",
    "df['irish_ale'] = df['beer_style'].map(lambda x: 1 if x in irish_ales else 0)\n",
    "\n",
    "df['russian_ale'] = 0\n",
    "df['russian_ale'] = df['beer_style'].map(lambda x: 1 if x in russian_ales else 0)\n",
    "\n",
    "df['scottish_ale'] = 0\n",
    "df['scottish_ale'] = df['beer_style'].map(lambda x: 1 if x in scottish_ales else 0)\n",
    "\n",
    "df['american_lager'] = 0\n",
    "df['american_lager'] = df['beer_style'].map(lambda x: 1 if x in american_lagers else 0)\n",
    "\n",
    "df['czech_lager'] = 0\n",
    "df['czech_lager'] = df['beer_style'].map(lambda x: 1 if x in czech_lagers else 0)\n",
    "\n",
    "df['european_lager'] = 0\n",
    "df['european_lager'] = df['beer_style'].map(lambda x: 1 if x in european_lagers else 0)\n",
    "\n",
    "df['german_lager'] = 0\n",
    "df['german_lager'] = df['beer_style'].map(lambda x: 1 if x in german_lagers else 0)\n",
    "\n",
    "df['japanese_lager'] = 0\n",
    "df['japanese_lager'] = df['beer_style'].map(lambda x: 1 if x in japanese_lagers else 0)\n",
    "\n",
    "df['hybrid_beer'] = 0\n",
    "df['hybrid_beer'] = df['beer_style'].map(lambda x: 1 if x in hybrid_beers else 0)\n"
   ]
  },
  {
   "cell_type": "code",
   "execution_count": 1898,
   "metadata": {
    "collapsed": false
   },
   "outputs": [
    {
     "data": {
      "text/plain": [
       "Index(['american_ale', 'belgian_french_ale', 'english_ale', 'finnish_ale',\n",
       "       'german_ale', 'irish_ale', 'russian_ale', 'scottish_ale',\n",
       "       'american_lager', 'czech_lager', 'european_lager', 'german_lager',\n",
       "       'japanese_lager', 'hybrid_beer'],\n",
       "      dtype='object')"
      ]
     },
     "execution_count": 1898,
     "metadata": {},
     "output_type": "execute_result"
    }
   ],
   "source": [
    "df.columns[14:]"
   ]
  },
  {
   "cell_type": "code",
   "execution_count": 1899,
   "metadata": {
    "collapsed": false
   },
   "outputs": [],
   "source": [
    "beer_dummies = df.columns[14:]"
   ]
  },
  {
   "cell_type": "code",
   "execution_count": 1900,
   "metadata": {
    "collapsed": false
   },
   "outputs": [
    {
     "data": {
      "text/plain": [
       "0       1\n",
       "2542    1\n",
       "2543    1\n",
       "2544    1\n",
       "2545    1\n",
       "dtype: int64"
      ]
     },
     "execution_count": 1900,
     "metadata": {},
     "output_type": "execute_result"
    }
   ],
   "source": [
    "# confirming all beers are cateogrized once\n",
    "df[beer_dummies].sum(axis=1).sort_values().head()"
   ]
  },
  {
   "cell_type": "code",
   "execution_count": 1901,
   "metadata": {
    "collapsed": false
   },
   "outputs": [
    {
     "data": {
      "text/plain": [
       "1279    1\n",
       "1280    1\n",
       "1281    1\n",
       "1269    1\n",
       "3823    1\n",
       "dtype: int64"
      ]
     },
     "execution_count": 1901,
     "metadata": {},
     "output_type": "execute_result"
    }
   ],
   "source": [
    "df[beer_dummies].sum(axis=1).sort_values().tail(5)"
   ]
  },
  {
   "cell_type": "code",
   "execution_count": 1902,
   "metadata": {
    "collapsed": false
   },
   "outputs": [
    {
     "data": {
      "text/plain": [
       "Index(['abv', 'brewery', 'country', 'name', 'rating', 'state', 'beer_style',\n",
       "       'year', 'location', 'zipcode', 'lat', 'lon', 'brew_counts',\n",
       "       'brewery_avg_rating2', 'american_ale', 'belgian_french_ale',\n",
       "       'english_ale', 'finnish_ale', 'german_ale', 'irish_ale', 'russian_ale',\n",
       "       'scottish_ale', 'american_lager', 'czech_lager', 'european_lager',\n",
       "       'german_lager', 'japanese_lager', 'hybrid_beer'],\n",
       "      dtype='object')"
      ]
     },
     "execution_count": 1902,
     "metadata": {},
     "output_type": "execute_result"
    }
   ],
   "source": [
    "df.columns"
   ]
  },
  {
   "cell_type": "markdown",
   "metadata": {},
   "source": [
    "**State**"
   ]
  },
  {
   "cell_type": "code",
   "execution_count": 1903,
   "metadata": {
    "collapsed": true
   },
   "outputs": [],
   "source": [
    "count_per_state = df.groupby(['state'])['rating'].count()"
   ]
  },
  {
   "cell_type": "code",
   "execution_count": 1904,
   "metadata": {
    "collapsed": false
   },
   "outputs": [
    {
     "data": {
      "image/png": "[encoded data removed]",
      "text/plain": [
       "<matplotlib.figure.Figure at 0x1428274e0>"
      ]
     },
     "metadata": {},
     "output_type": "display_data"
    }
   ],
   "source": [
    "# 25 states have 100 beers\n",
    "# 51 'states' as DC is included\n",
    "count_per_state.hist();"
   ]
  },
  {
   "cell_type": "code",
   "execution_count": 1905,
   "metadata": {
    "collapsed": true
   },
   "outputs": [],
   "source": [
    "#count_per_state.sort_values()"
   ]
  },
  {
   "cell_type": "code",
   "execution_count": 1906,
   "metadata": {
    "collapsed": false
   },
   "outputs": [
    {
     "data": {
      "text/plain": [
       "array(['Alabama', 'Alaska', 'Arizona', 'Arkansas', 'California',\n",
       "       'Colorado', 'Connecticut', 'Delaware', 'District of Columbia',\n",
       "       'Florida', 'Georgia', 'Hawaii', 'Idaho', 'Illinois', 'Indiana',\n",
       "       'Iowa', 'Kansas', 'Kentucky', 'Louisiana', 'Maine', 'Maryland',\n",
       "       'Massachusetts', 'Michigan', 'Minnesota', 'Mississippi', 'Missouri',\n",
       "       'Montana', 'Nebraska', 'Nevada', 'New Hampshire', 'New Jersey',\n",
       "       'New Mexico', 'New York', 'North Carolina', 'North Dakota', 'Ohio',\n",
       "       'Oklahoma', 'Oregon', 'Pennsylvania', 'Rhode Island',\n",
       "       'South Carolina', 'South Dakota', 'Tennessee', 'Texas', 'Utah',\n",
       "       None, 'Vermont', 'Virginia', 'Washington', 'West Virginia',\n",
       "       'Wisconsin', 'Wyoming'], dtype=object)"
      ]
     },
     "execution_count": 1906,
     "metadata": {},
     "output_type": "execute_result"
    }
   ],
   "source": [
    "# fix none state\n",
    "df.state.unique()"
   ]
  },
  {
   "cell_type": "code",
   "execution_count": 1907,
   "metadata": {
    "collapsed": true
   },
   "outputs": [],
   "source": [
    "#df[df.country.isnull()]"
   ]
  },
  {
   "cell_type": "code",
   "execution_count": 1908,
   "metadata": {
    "collapsed": false
   },
   "outputs": [],
   "source": [
    "df['state'].fillna('Utah', inplace = True)\n",
    "df['country'].fillna('United States', inplace = True)"
   ]
  },
  {
   "cell_type": "code",
   "execution_count": 1909,
   "metadata": {
    "collapsed": false
   },
   "outputs": [],
   "source": [
    "# state dummies\n",
    "states = pd.get_dummies(df.state)"
   ]
  },
  {
   "cell_type": "code",
   "execution_count": 1910,
   "metadata": {
    "collapsed": false
   },
   "outputs": [
    {
     "data": {
      "text/html": [
       "<div>\n",
       "<table border=\"1\" class=\"dataframe\">\n",
       "  <thead>\n",
       "    <tr style=\"text-align: right;\">\n",
       "      <th></th>\n",
       "      <th>Alabama</th>\n",
       "      <th>Alaska</th>\n",
       "      <th>Arizona</th>\n",
       "      <th>Arkansas</th>\n",
       "      <th>California</th>\n",
       "      <th>Colorado</th>\n",
       "      <th>Connecticut</th>\n",
       "      <th>Delaware</th>\n",
       "      <th>District of Columbia</th>\n",
       "      <th>Florida</th>\n",
       "      <th>...</th>\n",
       "      <th>South Dakota</th>\n",
       "      <th>Tennessee</th>\n",
       "      <th>Texas</th>\n",
       "      <th>Utah</th>\n",
       "      <th>Vermont</th>\n",
       "      <th>Virginia</th>\n",
       "      <th>Washington</th>\n",
       "      <th>West Virginia</th>\n",
       "      <th>Wisconsin</th>\n",
       "      <th>Wyoming</th>\n",
       "    </tr>\n",
       "  </thead>\n",
       "  <tbody>\n",
       "    <tr>\n",
       "      <th>0</th>\n",
       "      <td>1</td>\n",
       "      <td>0</td>\n",
       "      <td>0</td>\n",
       "      <td>0</td>\n",
       "      <td>0</td>\n",
       "      <td>0</td>\n",
       "      <td>0</td>\n",
       "      <td>0</td>\n",
       "      <td>0</td>\n",
       "      <td>0</td>\n",
       "      <td>...</td>\n",
       "      <td>0</td>\n",
       "      <td>0</td>\n",
       "      <td>0</td>\n",
       "      <td>0</td>\n",
       "      <td>0</td>\n",
       "      <td>0</td>\n",
       "      <td>0</td>\n",
       "      <td>0</td>\n",
       "      <td>0</td>\n",
       "      <td>0</td>\n",
       "    </tr>\n",
       "    <tr>\n",
       "      <th>1</th>\n",
       "      <td>1</td>\n",
       "      <td>0</td>\n",
       "      <td>0</td>\n",
       "      <td>0</td>\n",
       "      <td>0</td>\n",
       "      <td>0</td>\n",
       "      <td>0</td>\n",
       "      <td>0</td>\n",
       "      <td>0</td>\n",
       "      <td>0</td>\n",
       "      <td>...</td>\n",
       "      <td>0</td>\n",
       "      <td>0</td>\n",
       "      <td>0</td>\n",
       "      <td>0</td>\n",
       "      <td>0</td>\n",
       "      <td>0</td>\n",
       "      <td>0</td>\n",
       "      <td>0</td>\n",
       "      <td>0</td>\n",
       "      <td>0</td>\n",
       "    </tr>\n",
       "    <tr>\n",
       "      <th>2</th>\n",
       "      <td>1</td>\n",
       "      <td>0</td>\n",
       "      <td>0</td>\n",
       "      <td>0</td>\n",
       "      <td>0</td>\n",
       "      <td>0</td>\n",
       "      <td>0</td>\n",
       "      <td>0</td>\n",
       "      <td>0</td>\n",
       "      <td>0</td>\n",
       "      <td>...</td>\n",
       "      <td>0</td>\n",
       "      <td>0</td>\n",
       "      <td>0</td>\n",
       "      <td>0</td>\n",
       "      <td>0</td>\n",
       "      <td>0</td>\n",
       "      <td>0</td>\n",
       "      <td>0</td>\n",
       "      <td>0</td>\n",
       "      <td>0</td>\n",
       "    </tr>\n",
       "    <tr>\n",
       "      <th>3</th>\n",
       "      <td>1</td>\n",
       "      <td>0</td>\n",
       "      <td>0</td>\n",
       "      <td>0</td>\n",
       "      <td>0</td>\n",
       "      <td>0</td>\n",
       "      <td>0</td>\n",
       "      <td>0</td>\n",
       "      <td>0</td>\n",
       "      <td>0</td>\n",
       "      <td>...</td>\n",
       "      <td>0</td>\n",
       "      <td>0</td>\n",
       "      <td>0</td>\n",
       "      <td>0</td>\n",
       "      <td>0</td>\n",
       "      <td>0</td>\n",
       "      <td>0</td>\n",
       "      <td>0</td>\n",
       "      <td>0</td>\n",
       "      <td>0</td>\n",
       "    </tr>\n",
       "    <tr>\n",
       "      <th>4</th>\n",
       "      <td>1</td>\n",
       "      <td>0</td>\n",
       "      <td>0</td>\n",
       "      <td>0</td>\n",
       "      <td>0</td>\n",
       "      <td>0</td>\n",
       "      <td>0</td>\n",
       "      <td>0</td>\n",
       "      <td>0</td>\n",
       "      <td>0</td>\n",
       "      <td>...</td>\n",
       "      <td>0</td>\n",
       "      <td>0</td>\n",
       "      <td>0</td>\n",
       "      <td>0</td>\n",
       "      <td>0</td>\n",
       "      <td>0</td>\n",
       "      <td>0</td>\n",
       "      <td>0</td>\n",
       "      <td>0</td>\n",
       "      <td>0</td>\n",
       "    </tr>\n",
       "  </tbody>\n",
       "</table>\n",
       "<p>5 rows × 51 columns</p>\n",
       "</div>"
      ],
      "text/plain": [
       "   Alabama  Alaska  Arizona  Arkansas  California  Colorado  Connecticut  \\\n",
       "0        1       0        0         0           0         0            0   \n",
       "1        1       0        0         0           0         0            0   \n",
       "2        1       0        0         0           0         0            0   \n",
       "3        1       0        0         0           0         0            0   \n",
       "4        1       0        0         0           0         0            0   \n",
       "\n",
       "   Delaware  District of Columbia  Florida   ...     South Dakota  Tennessee  \\\n",
       "0         0                     0        0   ...                0          0   \n",
       "1         0                     0        0   ...                0          0   \n",
       "2         0                     0        0   ...                0          0   \n",
       "3         0                     0        0   ...                0          0   \n",
       "4         0                     0        0   ...                0          0   \n",
       "\n",
       "   Texas  Utah  Vermont  Virginia  Washington  West Virginia  Wisconsin  \\\n",
       "0      0     0        0         0           0              0          0   \n",
       "1      0     0        0         0           0              0          0   \n",
       "2      0     0        0         0           0              0          0   \n",
       "3      0     0        0         0           0              0          0   \n",
       "4      0     0        0         0           0              0          0   \n",
       "\n",
       "   Wyoming  \n",
       "0        0  \n",
       "1        0  \n",
       "2        0  \n",
       "3        0  \n",
       "4        0  \n",
       "\n",
       "[5 rows x 51 columns]"
      ]
     },
     "execution_count": 1910,
     "metadata": {},
     "output_type": "execute_result"
    }
   ],
   "source": [
    "states.head()"
   ]
  },
  {
   "cell_type": "code",
   "execution_count": 1911,
   "metadata": {
    "collapsed": true
   },
   "outputs": [],
   "source": [
    "df = pd.concat([df, states], axis=1)"
   ]
  },
  {
   "cell_type": "code",
   "execution_count": 1912,
   "metadata": {
    "collapsed": false
   },
   "outputs": [
    {
     "data": {
      "text/plain": [
       "Index(['abv', 'brewery', 'country', 'name', 'rating', 'state', 'beer_style',\n",
       "       'year', 'location', 'zipcode', 'lat', 'lon', 'brew_counts',\n",
       "       'brewery_avg_rating2', 'american_ale', 'belgian_french_ale',\n",
       "       'english_ale', 'finnish_ale', 'german_ale', 'irish_ale', 'russian_ale',\n",
       "       'scottish_ale', 'american_lager', 'czech_lager', 'european_lager',\n",
       "       'german_lager', 'japanese_lager', 'hybrid_beer', 'Alabama', 'Alaska',\n",
       "       'Arizona', 'Arkansas', 'California', 'Colorado', 'Connecticut',\n",
       "       'Delaware', 'District of Columbia', 'Florida', 'Georgia', 'Hawaii',\n",
       "       'Idaho', 'Illinois', 'Indiana', 'Iowa', 'Kansas', 'Kentucky',\n",
       "       'Louisiana', 'Maine', 'Maryland', 'Massachusetts', 'Michigan',\n",
       "       'Minnesota', 'Mississippi', 'Missouri', 'Montana', 'Nebraska', 'Nevada',\n",
       "       'New Hampshire', 'New Jersey', 'New Mexico', 'New York',\n",
       "       'North Carolina', 'North Dakota', 'Ohio', 'Oklahoma', 'Oregon',\n",
       "       'Pennsylvania', 'Rhode Island', 'South Carolina', 'South Dakota',\n",
       "       'Tennessee', 'Texas', 'Utah', 'Vermont', 'Virginia', 'Washington',\n",
       "       'West Virginia', 'Wisconsin', 'Wyoming'],\n",
       "      dtype='object')"
      ]
     },
     "execution_count": 1912,
     "metadata": {},
     "output_type": "execute_result"
    }
   ],
   "source": [
    "df.columns"
   ]
  },
  {
   "cell_type": "markdown",
   "metadata": {},
   "source": [
    "**Beer style taxonomy: take 2 (individual dummies)**"
   ]
  },
  {
   "cell_type": "code",
   "execution_count": 1913,
   "metadata": {
    "collapsed": true
   },
   "outputs": [],
   "source": [
    "b_styles = pd.get_dummies(df.beer_style)"
   ]
  },
  {
   "cell_type": "code",
   "execution_count": 1914,
   "metadata": {
    "collapsed": true
   },
   "outputs": [],
   "source": [
    "df2 = pd.concat([df, b_styles], axis = 1)"
   ]
  },
  {
   "cell_type": "code",
   "execution_count": 1915,
   "metadata": {
    "collapsed": false
   },
   "outputs": [
    {
     "data": {
      "text/plain": [
       "Index(['abv', 'brewery', 'country', 'name', 'rating', 'state', 'beer_style',\n",
       "       'year', 'location', 'zipcode',\n",
       "       ...\n",
       "       'Scotch Ale / Wee Heavy', 'Scottish Ale',\n",
       "       'Scottish Gruit / Ancient Herbed Ale', 'Smoked Beer', 'Tripel',\n",
       "       'Vienna Lager', 'Weizenbock', 'Wheatwine', 'Winter Warmer', 'Witbier'],\n",
       "      dtype='object', length=173)"
      ]
     },
     "execution_count": 1915,
     "metadata": {},
     "output_type": "execute_result"
    }
   ],
   "source": [
    "df2.columns"
   ]
  },
  {
   "cell_type": "code",
   "execution_count": 1916,
   "metadata": {
    "collapsed": true
   },
   "outputs": [],
   "source": [
    "df2.to_pickle('full_df.pkl')"
   ]
  },
  {
   "cell_type": "markdown",
   "metadata": {},
   "source": [
    "**Create matrices**"
   ]
  },
  {
   "cell_type": "code",
   "execution_count": 1917,
   "metadata": {
    "collapsed": true
   },
   "outputs": [],
   "source": [
    "# with open(\"full_df.pkl\", 'rb') as picklefile: \n",
    "#     df2 = pickle.load(picklefile)\n",
    "    \n",
    "# # df2.to_csv('beers_and_breweries.csv')"
   ]
  },
  {
   "cell_type": "code",
   "execution_count": 1918,
   "metadata": {
    "collapsed": true
   },
   "outputs": [],
   "source": [
    "X = df2.drop(['brewery', 'country', 'name', 'rating', 'state', 'beer_style', 'location'], 1)"
   ]
  },
  {
   "cell_type": "code",
   "execution_count": 1919,
   "metadata": {
    "collapsed": false
   },
   "outputs": [],
   "source": [
    "y = df2[['rating']]"
   ]
  },
  {
   "cell_type": "code",
   "execution_count": 1920,
   "metadata": {
    "collapsed": false
   },
   "outputs": [],
   "source": [
    "s_train, s_test, ytrain, ytest = train_test_split(X, y, test_size = 0.3)"
   ]
  },
  {
   "cell_type": "code",
   "execution_count": 1921,
   "metadata": {
    "collapsed": true
   },
   "outputs": [],
   "source": [
    "ytrain = np.ravel(ytrain)\n",
    "ytest = np.ravel(ytest)\n",
    "y = np.ravel(y)"
   ]
  },
  {
   "cell_type": "markdown",
   "metadata": {},
   "source": [
    "## Analysis"
   ]
  },
  {
   "cell_type": "code",
   "execution_count": 1922,
   "metadata": {
    "collapsed": false
   },
   "outputs": [],
   "source": [
    "# for i,j in enumerate(s_train):\n",
    "#     print(i, j)"
   ]
  },
  {
   "cell_type": "code",
   "execution_count": 1923,
   "metadata": {
    "collapsed": false
   },
   "outputs": [],
   "source": [
    "# select first beer taxonomy and no location (original model)\n",
    "Xtrain1 = s_train.drop(s_train.iloc[:, 72:], 1)\n",
    "Xtrain1 = Xtrain1.drop(s_train.iloc[:, 2:5], 1)\n",
    "# Xtrain1 = Xtrain1.drop(s_train.iloc[:, 3:5], 1) # zipcode\n",
    "Xtest1 = s_test.drop(s_test.iloc[:, 72:], 1)\n",
    "Xtest1 = Xtest1.drop(s_test.iloc[:, 2:5], 1)\n",
    "#Xtest1 = Xtest1.drop(s_test.iloc[:, 3:5], 1) # zipcode"
   ]
  },
  {
   "cell_type": "code",
   "execution_count": 1924,
   "metadata": {
    "collapsed": true
   },
   "outputs": [],
   "source": [
    "# select second beer taxonomy (and no location)\n",
    "Xtrain2 = s_train.drop(s_train.iloc[:, 7:21], 1)\n",
    "Xtrain2 = Xtrain2.drop(s_train.iloc[:, 2:5], 1)\n",
    "Xtest2 = s_test.drop(s_test.iloc[:, 7:21], 1)\n",
    "Xtest2 = Xtest2.drop(s_test.iloc[:, 2:5], 1)"
   ]
  },
  {
   "cell_type": "code",
   "execution_count": 1925,
   "metadata": {
    "collapsed": false
   },
   "outputs": [],
   "source": [
    "# for i,j in enumerate(Xtrain2):\n",
    "#     print(i, j)"
   ]
  },
  {
   "cell_type": "code",
   "execution_count": 1926,
   "metadata": {
    "collapsed": true
   },
   "outputs": [],
   "source": [
    "def run_linear_models(xtrain_data, xtest_data):\n",
    "    models = {}\n",
    "    models['lin_reg'] = LinearRegression()\n",
    "    models['ridge'] = Ridge()\n",
    "    models['lasso1'] = Lasso(alpha=.2)\n",
    "    models['lasso2'] = Lasso(alpha=.02)\n",
    "    models['lasso3'] = Lasso(alpha=.002)\n",
    "    models['lasso4'] = Lasso(alpha=.0002)\n",
    "    #models['lasso5'] = Lasso(alpha=.00002)\n",
    "    models['elasticnet'] = ElasticNet()\n",
    "    \n",
    "    for name,model in models.items():\n",
    "        model.fit(xtrain_data, ytrain)\n",
    "        print('Model: ' + name)\n",
    "        print(\"Score: \" + str(model.score(xtest_data, ytest)))\n",
    "        print(\"\")"
   ]
  },
  {
   "cell_type": "code",
   "execution_count": 1927,
   "metadata": {
    "collapsed": true
   },
   "outputs": [],
   "source": [
    "# notes on linear regression:\n",
    "# initially around .63; jumped up to .69/.70 with adjustment of missing values for brew_avg_rating (from zero to mean)"
   ]
  },
  {
   "cell_type": "code",
   "execution_count": 1928,
   "metadata": {
    "collapsed": false
   },
   "outputs": [],
   "source": [
    "# # example of cross_val_score \n",
    "# X.drop(['lat', 'lon'], 1, inplace = True)\n",
    "# cross_val_score(models['lasso3'], X, y)"
   ]
  },
  {
   "cell_type": "code",
   "execution_count": 1929,
   "metadata": {
    "collapsed": false
   },
   "outputs": [
    {
     "name": "stdout",
     "output_type": "stream",
     "text": [
      "Taxonomy one - large categories\n",
      "Model: lin_reg\n",
      "Score: 0.703675149527\n",
      "\n",
      "Model: ridge\n",
      "Score: 0.704324864037\n",
      "\n",
      "Model: lasso1\n",
      "Score: 0.201836817211\n",
      "\n",
      "Model: lasso2\n",
      "Score: 0.626721034406\n",
      "\n",
      "Model: lasso3\n",
      "Score: 0.694474961429\n",
      "\n",
      "Model: lasso4\n",
      "Score: 0.70450897568\n",
      "\n",
      "Model: elasticnet\n",
      "Score: 0.0242364748944\n",
      "\n"
     ]
    }
   ],
   "source": [
    "print('Taxonomy one - large categories')\n",
    "run_linear_models(Xtrain1, Xtest1)\n",
    "# lasso 3 is probably optimal of all the alpha values"
   ]
  },
  {
   "cell_type": "code",
   "execution_count": 1930,
   "metadata": {
    "collapsed": false
   },
   "outputs": [],
   "source": [
    "# model = models['lasso3']\n",
    "# model.fit(Xtrain1, ytrain)\n",
    "# model.score(Xtest1, ytest)\n",
    "# model.coef_\n",
    "\n",
    "# model = models['lin_reg']\n",
    "# model.fit(Xtrain1, ytrain)\n",
    "# model.score(Xtest1, ytest)\n",
    "# model.coef_\n",
    "\n",
    "# Xtrain1.head()"
   ]
  },
  {
   "cell_type": "code",
   "execution_count": 1931,
   "metadata": {
    "collapsed": false
   },
   "outputs": [
    {
     "name": "stdout",
     "output_type": "stream",
     "text": [
      "Taxonomy two - individual dummies\n",
      "Model: lin_reg\n",
      "Score: -4.22830858489e+15\n",
      "\n",
      "Model: ridge\n",
      "Score: 0.732085427136\n",
      "\n",
      "Model: lasso1\n",
      "Score: 0.201836817211\n",
      "\n",
      "Model: lasso2\n",
      "Score: 0.626721034406\n",
      "\n",
      "Model: lasso3\n",
      "Score: 0.696437416448\n",
      "\n",
      "Model: lasso4\n",
      "Score: 0.725552385671\n",
      "\n",
      "Model: elasticnet\n",
      "Score: 0.0242364748944\n",
      "\n"
     ]
    }
   ],
   "source": [
    "print('Taxonomy two - individual dummies')\n",
    "run_linear_models(Xtrain2, Xtest2)"
   ]
  },
  {
   "cell_type": "code",
   "execution_count": null,
   "metadata": {
    "collapsed": true
   },
   "outputs": [],
   "source": []
  },
  {
   "cell_type": "code",
   "execution_count": 1932,
   "metadata": {
    "collapsed": false
   },
   "outputs": [],
   "source": [
    "def run_tree_models(xtrain_data, xtest_data):\n",
    "    trees = {}\n",
    "\n",
    "    trees['cart'] = tree.DecisionTreeRegressor(max_depth=7)\n",
    "    trees['extratrees'] =tree.ExtraTreeRegressor(max_depth=7)\n",
    "    trees['randomForest'] = RandomForestRegressor()\n",
    "    trees['rftree1'] = RandomForestRegressor(n_estimators = 10, max_features='auto', min_samples_split=10)\n",
    "    trees['rftree2'] = RandomForestRegressor(n_estimators = 30, max_features='auto', min_samples_split=10)\n",
    "    trees['rftree3'] = RandomForestRegressor(n_estimators = 50, max_features='auto', min_samples_split=10)\n",
    "    trees['rftree4'] = RandomForestRegressor(n_estimators = 100, max_features='auto', min_samples_split=10)\n",
    "    trees['bagged_randomForest'] = BaggingRegressor(RandomForestRegressor())\n",
    "    trees['adaboostedTrees'] = ensemble.AdaBoostRegressor()\n",
    "    trees['gradboostedTrees'] = ensemble.GradientBoostingRegressor()\n",
    "    \n",
    "    for name,model in trees.items():\n",
    "        model.fit(xtrain_data, ytrain)\n",
    "        print('Model: ' + name)\n",
    "        print(\"Score: \" + str(model.score(xtest_data, ytest)))\n",
    "        print(\"\")"
   ]
  },
  {
   "cell_type": "code",
   "execution_count": 1933,
   "metadata": {
    "collapsed": false
   },
   "outputs": [
    {
     "name": "stdout",
     "output_type": "stream",
     "text": [
      "Taxonomy one - large categories\n",
      "Model: cart\n",
      "Score: 0.686313520759\n",
      "\n",
      "Model: extratrees\n",
      "Score: 0.630973149915\n",
      "\n",
      "Model: randomForest\n",
      "Score: 0.742095459589\n",
      "\n",
      "Model: rftree1\n",
      "Score: 0.716500884159\n",
      "\n",
      "Model: rftree2\n",
      "Score: 0.742437129899\n",
      "\n",
      "Model: rftree3\n",
      "Score: 0.743389042182\n",
      "\n",
      "Model: rftree4\n",
      "Score: 0.743451708519\n",
      "\n",
      "Model: bagged_randomForest\n",
      "Score: 0.746565544593\n",
      "\n",
      "Model: adaboostedTrees\n",
      "Score: 0.64661994809\n",
      "\n",
      "Model: gradboostedTrees\n",
      "Score: 0.729300238555\n",
      "\n"
     ]
    }
   ],
   "source": [
    "print('Taxonomy one - large categories')\n",
    "run_tree_models(Xtrain1, Xtest1)"
   ]
  },
  {
   "cell_type": "code",
   "execution_count": 1934,
   "metadata": {
    "collapsed": false
   },
   "outputs": [
    {
     "name": "stdout",
     "output_type": "stream",
     "text": [
      "Taxonomy two - individual dummies\n",
      "Model: cart\n",
      "Score: 0.682593074064\n",
      "\n",
      "Model: extratrees\n",
      "Score: 0.614917698701\n",
      "\n",
      "Model: randomForest\n",
      "Score: 0.734156652965\n",
      "\n",
      "Model: rftree1\n",
      "Score: 0.720796689439\n",
      "\n",
      "Model: rftree2\n",
      "Score: 0.746470143734\n",
      "\n",
      "Model: rftree3\n",
      "Score: 0.746789697101\n",
      "\n",
      "Model: rftree4\n",
      "Score: 0.746667380394\n",
      "\n",
      "Model: bagged_randomForest\n",
      "Score: 0.752828721181\n",
      "\n",
      "Model: adaboostedTrees\n",
      "Score: 0.67586306763\n",
      "\n",
      "Model: gradboostedTrees\n",
      "Score: 0.732597210125\n",
      "\n"
     ]
    }
   ],
   "source": [
    "print('Taxonomy two - individual dummies')\n",
    "run_tree_models(Xtrain2, Xtest2)"
   ]
  },
  {
   "cell_type": "code",
   "execution_count": 1935,
   "metadata": {
    "collapsed": true
   },
   "outputs": [],
   "source": [
    "def sorted_features(model, Xtrain_data, Xtest_data):\n",
    "    model.fit(Xtrain_data, ytrain)\n",
    "    print(\"Score: \" + str(model.score(Xtest_data,ytest)))\n",
    "    sorted_features = sorted(zip(Xtrain_data.columns,model.feature_importances_), key = lambda x: x[1], reverse = True)\n",
    "    for feature in sorted_features:\n",
    "        print(feature)"
   ]
  },
  {
   "cell_type": "code",
   "execution_count": 1936,
   "metadata": {
    "collapsed": false
   },
   "outputs": [
    {
     "name": "stdout",
     "output_type": "stream",
     "text": [
      "Score: 0.731754801626\n",
      "('brewery_avg_rating2', 0.70867741719315747)\n",
      "('abv', 0.10267378814345225)\n",
      "('year', 0.039446555919869411)\n",
      "('brew_counts', 0.029126622400104402)\n",
      "('Nevada', 0.0079236688887161667)\n",
      "('american_ale', 0.0070277960621107013)\n",
      "('american_lager', 0.0063946608848059732)\n",
      "('Louisiana', 0.0059781927409968613)\n",
      "('Arizona', 0.0049527609583411795)\n",
      "('Rhode Island', 0.0035906487356031106)\n",
      "('Kansas', 0.0035062343611414215)\n",
      "('hybrid_beer', 0.0030051486353183223)\n",
      "('Oklahoma', 0.0029739680422245451)\n",
      "('New Jersey', 0.0028201273233958773)\n",
      "('german_ale', 0.0027285490864835207)\n",
      "('Missouri', 0.0026344736395966023)\n",
      "('belgian_french_ale', 0.00262040527684336)\n",
      "('West Virginia', 0.0025779665221006992)\n",
      "('South Carolina', 0.0025311289177358245)\n",
      "('english_ale', 0.0024111125824364823)\n",
      "('Connecticut', 0.002311808834915783)\n",
      "('Tennessee', 0.0022891859417932679)\n",
      "('California', 0.0022616587490585502)\n",
      "('New York', 0.0021962993896455724)\n",
      "('Maryland', 0.0020973153529549905)\n",
      "('Montana', 0.0020028827254161279)\n",
      "('Wisconsin', 0.0019128601872272087)\n",
      "('Iowa', 0.0018796858283878462)\n",
      "('New Hampshire', 0.0018054848608247249)\n",
      "('Maine', 0.001761053663116522)\n",
      "('Virginia', 0.0017161310613328332)\n",
      "('Alabama', 0.0016971677242034501)\n",
      "('Nebraska', 0.0016709007915691962)\n",
      "('Alaska', 0.0016297262627935002)\n",
      "('Georgia', 0.0015868160950287557)\n",
      "('Massachusetts', 0.0015750212042142512)\n",
      "('Mississippi', 0.0015344529291608886)\n",
      "('Washington', 0.0014639417583829414)\n",
      "('New Mexico', 0.0013858796524555332)\n",
      "('Kentucky', 0.0013821683710374447)\n",
      "('Utah', 0.0013387136747801546)\n",
      "('Hawaii', 0.0013376467261787348)\n",
      "('Idaho', 0.001242144691481093)\n",
      "('Texas', 0.0012020058020789477)\n",
      "('Indiana', 0.0011832836380301702)\n",
      "('Ohio', 0.001153166213099629)\n",
      "('german_lager', 0.0010347651292124407)\n",
      "('Colorado', 0.00099819029795374797)\n",
      "('Oregon', 0.00095888306405516785)\n",
      "('Arkansas', 0.00095610013250956721)\n",
      "('Michigan', 0.00091700133484989409)\n",
      "('Vermont', 0.00091544215949108704)\n",
      "('Delaware', 0.00091297506990547519)\n",
      "('Minnesota', 0.00082890947482258171)\n",
      "('Florida', 0.00082851782627065451)\n",
      "('North Carolina', 0.00079971229679437722)\n",
      "('Pennsylvania', 0.00079551635748203087)\n",
      "('District of Columbia', 0.00073515475066445758)\n",
      "('Illinois', 0.0006854505910687548)\n",
      "('scottish_ale', 0.0004947951553968136)\n",
      "('irish_ale', 0.00025243838970059131)\n",
      "('czech_lager', 0.00024015717155764809)\n",
      "('Wyoming', 0.00014467206306986911)\n",
      "('South Dakota', 0.00013740954373768293)\n",
      "('North Dakota', 0.00013730910916200713)\n",
      "('finnish_ale', 7.9716386928738426e-06)\n",
      "('russian_ale', 0.0)\n",
      "('european_lager', 0.0)\n",
      "('japanese_lager', 0.0)\n"
     ]
    }
   ],
   "source": [
    "sorted_features(trees['randomForest'], Xtrain1, Xtest1)"
   ]
  },
  {
   "cell_type": "code",
   "execution_count": null,
   "metadata": {
    "collapsed": true
   },
   "outputs": [],
   "source": []
  },
  {
   "cell_type": "code",
   "execution_count": 1937,
   "metadata": {
    "collapsed": true
   },
   "outputs": [],
   "source": [
    "degree = 3"
   ]
  },
  {
   "cell_type": "code",
   "execution_count": 1938,
   "metadata": {
    "collapsed": false
   },
   "outputs": [],
   "source": [
    "# est = make_pipeline(PolynomialFeatures(degree), RandomForestRegressor())\n",
    "# est.fit(Xtrain1, ytrain)\n",
    "# est.score(Xtest1, ytest)"
   ]
  },
  {
   "cell_type": "code",
   "execution_count": null,
   "metadata": {
    "collapsed": true
   },
   "outputs": [],
   "source": []
  },
  {
   "cell_type": "code",
   "execution_count": 1939,
   "metadata": {
    "collapsed": false
   },
   "outputs": [
    {
     "data": {
      "text/plain": [
       "Index(['abv', 'year', 'zipcode', 'lat', 'lon', 'brew_counts',\n",
       "       'brewery_avg_rating2', 'american_ale', 'belgian_french_ale',\n",
       "       'english_ale',\n",
       "       ...\n",
       "       'Scotch Ale / Wee Heavy', 'Scottish Ale',\n",
       "       'Scottish Gruit / Ancient Herbed Ale', 'Smoked Beer', 'Tripel',\n",
       "       'Vienna Lager', 'Weizenbock', 'Wheatwine', 'Winter Warmer', 'Witbier'],\n",
       "      dtype='object', length=166)"
      ]
     },
     "execution_count": 1939,
     "metadata": {},
     "output_type": "execute_result"
    }
   ],
   "source": [
    "X.columns"
   ]
  },
  {
   "cell_type": "code",
   "execution_count": 1944,
   "metadata": {
    "collapsed": false
   },
   "outputs": [],
   "source": [
    "nondummies = X.iloc[:, [0, 1, 5, 6]]"
   ]
  },
  {
   "cell_type": "code",
   "execution_count": 1945,
   "metadata": {
    "collapsed": false
   },
   "outputs": [
    {
     "data": {
      "text/plain": [
       "Index(['abv', 'year', 'brew_counts', 'brewery_avg_rating2'], dtype='object')"
      ]
     },
     "execution_count": 1945,
     "metadata": {},
     "output_type": "execute_result"
    }
   ],
   "source": [
    "nondummies.columns"
   ]
  },
  {
   "cell_type": "code",
   "execution_count": 1946,
   "metadata": {
    "collapsed": false
   },
   "outputs": [
    {
     "data": {
      "image/png": "[encoded data removed]",
      "text/plain": [
       "<matplotlib.figure.Figure at 0x142a777f0>"
      ]
     },
     "metadata": {},
     "output_type": "display_data"
    }
   ],
   "source": [
    "fig,ax = plt.subplots(ncols=1,nrows=len(nondummies.columns),figsize=(10, 20))\n",
    "\n",
    "for i,feature in enumerate(nondummies):\n",
    "    ax[i].scatter(X[feature],y)\n",
    "    ax[i].set_title(str(feature))"
   ]
  },
  {
   "cell_type": "code",
   "execution_count": 5,
   "metadata": {
    "collapsed": false
   },
   "outputs": [],
   "source": [
    "# # individual plot\n",
    "# fig,ax = plt.subplots(1, 1,figsize=(15, 10))\n",
    "# ax.scatter(X.brewery_avg_rating2, y)\n",
    "# ax.ylabel('Beer rating')\n",
    "# ax.xlabel('Brewery average rating')"
   ]
  },
  {
   "cell_type": "code",
   "execution_count": null,
   "metadata": {
    "collapsed": true
   },
   "outputs": [],
   "source": []
  },
  {
   "cell_type": "code",
   "execution_count": 1948,
   "metadata": {
    "collapsed": false
   },
   "outputs": [],
   "source": [
    "# what happens if just have non dummy variables (abv, brew_counts, avg_rating, year)\n",
    "\n",
    "Xtrain_lim = Xtrain1.iloc[:, :4]\n",
    "Xtest_lim = Xtest1.iloc[:, :4]\n",
    "\n",
    "# what happens if have four main PLUS four beers w/ highest feature importance: \n",
    "# American Malt Liquor, American Amber / Red Ale, American Double / Imperial Stout, American Porter\n",
    "\n",
    "Xtrain_lim2 = Xtrain2.iloc[:, [0, 1, 2, 3, 68, 57, 66, 72]]\n",
    "Xtest_lim2 = Xtest2.iloc[:, [0, 1, 2, 3, 68, 57, 66, 72]]\n",
    "\n",
    "# what if I add zip codes in to the top four\n",
    "\n",
    "Xtrain_lim3 = s_train.iloc[:, [0, 1, 2, 5, 6]]\n",
    "Xtest_lim3 = s_test.iloc[:, [0, 1, 2, 5, 6]]\n",
    "\n",
    "# top four, zip codes, four beers (doesn't help)\n",
    "# Xtrain_x = s_train.iloc[:, [0, 1, 2, 5, 6, 85, 74, 83, 89]]\n",
    "# Xtest_x = s_test.iloc[:, [0, 1, 2, 5, 6, 85, 74, 83, 89]]"
   ]
  },
  {
   "cell_type": "code",
   "execution_count": 1949,
   "metadata": {
    "collapsed": false
   },
   "outputs": [],
   "source": [
    "# # linear models\n",
    "\n",
    "# print('top four vars')\n",
    "# run_linear_models(Xtrain_lim, Xtest_lim)\n",
    "\n",
    "# print('top four vars plus top four beers')\n",
    "# run_linear_models(Xtrain_lim2, Xtest_lim2)\n",
    "\n",
    "# print('top four vars plus zip codes')\n",
    "# run_linear_models(Xtrain_lim3, Xtest_lim3)"
   ]
  },
  {
   "cell_type": "code",
   "execution_count": null,
   "metadata": {
    "collapsed": false
   },
   "outputs": [],
   "source": []
  },
  {
   "cell_type": "code",
   "execution_count": 1950,
   "metadata": {
    "collapsed": false
   },
   "outputs": [
    {
     "name": "stdout",
     "output_type": "stream",
     "text": [
      "top four vars\n",
      "Model: cart\n",
      "Score: 0.685309491033\n",
      "\n",
      "Model: extratrees\n",
      "Score: 0.577240837792\n",
      "\n",
      "Model: randomForest\n",
      "Score: 0.714222257304\n",
      "\n",
      "Model: rftree1\n",
      "Score: 0.708687673274\n",
      "\n",
      "Model: rftree2\n",
      "Score: 0.721238237281\n",
      "\n",
      "Model: rftree3\n",
      "Score: 0.719985859664\n",
      "\n",
      "Model: rftree4\n",
      "Score: 0.726740040866\n",
      "\n",
      "Model: bagged_randomForest\n",
      "Score: 0.73391176673\n",
      "\n",
      "Model: adaboostedTrees\n",
      "Score: 0.656299450372\n",
      "\n",
      "Model: gradboostedTrees\n",
      "Score: 0.718581233659\n",
      "\n"
     ]
    }
   ],
   "source": [
    "print('top four vars')\n",
    "run_tree_models(Xtrain_lim, Xtest_lim)"
   ]
  },
  {
   "cell_type": "code",
   "execution_count": 1951,
   "metadata": {
    "collapsed": false
   },
   "outputs": [
    {
     "name": "stdout",
     "output_type": "stream",
     "text": [
      "top four vars plus top four beers\n",
      "Model: cart\n",
      "Score: 0.686622467456\n",
      "\n",
      "Model: extratrees\n",
      "Score: 0.659698055736\n",
      "\n",
      "Model: randomForest\n",
      "Score: 0.710749420631\n",
      "\n",
      "Model: rftree1\n",
      "Score: 0.708930035305\n",
      "\n",
      "Model: rftree2\n",
      "Score: 0.72586849276\n",
      "\n",
      "Model: rftree3\n",
      "Score: 0.727408468458\n",
      "\n",
      "Model: rftree4\n",
      "Score: 0.728558456959\n",
      "\n",
      "Model: bagged_randomForest\n",
      "Score: 0.735418186183\n",
      "\n",
      "Model: adaboostedTrees\n",
      "Score: 0.655458671186\n",
      "\n",
      "Model: gradboostedTrees\n",
      "Score: 0.724836026421\n",
      "\n"
     ]
    }
   ],
   "source": [
    "print('top four vars plus top four beers')\n",
    "run_tree_models(Xtrain_lim2, Xtest_lim2)"
   ]
  },
  {
   "cell_type": "code",
   "execution_count": 1952,
   "metadata": {
    "collapsed": false
   },
   "outputs": [
    {
     "name": "stdout",
     "output_type": "stream",
     "text": [
      "top four vars plus zip codes\n",
      "Model: cart\n",
      "Score: 0.684454312991\n",
      "\n",
      "Model: extratrees\n",
      "Score: 0.651499548025\n",
      "\n",
      "Model: randomForest\n",
      "Score: 0.724894626343\n",
      "\n",
      "Model: rftree1\n",
      "Score: 0.716273619144\n",
      "\n",
      "Model: rftree2\n",
      "Score: 0.735744758889\n",
      "\n",
      "Model: rftree3\n",
      "Score: 0.739697653316\n",
      "\n",
      "Model: rftree4\n",
      "Score: 0.739455980991\n",
      "\n",
      "Model: bagged_randomForest\n",
      "Score: 0.737866967072\n",
      "\n",
      "Model: adaboostedTrees\n",
      "Score: 0.643838135106\n",
      "\n",
      "Model: gradboostedTrees\n",
      "Score: 0.719801403994\n",
      "\n"
     ]
    }
   ],
   "source": [
    "print('top four vars plus zip codes')\n",
    "run_tree_models(Xtrain_lim3, Xtest_lim3)"
   ]
  },
  {
   "cell_type": "code",
   "execution_count": 1953,
   "metadata": {
    "collapsed": false,
    "scrolled": true
   },
   "outputs": [],
   "source": [
    "## just looking at best random forest model\n",
    "\n",
    "def rftree_2(Xtrain_data, Xtest_data):\n",
    "    model = RandomForestRegressor(n_estimators = 30, max_features='auto', min_samples_split=10)\n",
    "    model.fit(Xtrain_data,ytrain)\n",
    "    print('Model: rftree2')\n",
    "    print(\"Score: \" + str(model.score(Xtest_data,ytest)))\n",
    "    print(\"\")\n"
   ]
  },
  {
   "cell_type": "code",
   "execution_count": 1954,
   "metadata": {
    "collapsed": false
   },
   "outputs": [
    {
     "name": "stdout",
     "output_type": "stream",
     "text": [
      "top four vars\n",
      "Model: rftree2\n",
      "Score: 0.718393908812\n",
      "\n",
      "top four vars plus top four beers\n",
      "Model: rftree2\n",
      "Score: 0.729742582891\n",
      "\n",
      "top four vars plus zip codes\n",
      "Model: rftree2\n",
      "Score: 0.726570864918\n",
      "\n"
     ]
    }
   ],
   "source": [
    "print('top four vars')\n",
    "rftree_2(Xtrain_lim, Xtest_lim)\n",
    "\n",
    "print('top four vars plus top four beers')\n",
    "rftree_2(Xtrain_lim2, Xtest_lim2)\n",
    "\n",
    "print('top four vars plus zip codes')\n",
    "rftree_2(Xtrain_lim3, Xtest_lim3)"
   ]
  },
  {
   "cell_type": "code",
   "execution_count": 1955,
   "metadata": {
    "collapsed": true
   },
   "outputs": [],
   "source": [
    "# BEST MODEL IS SIMPLEST WITH ZIP CODES THAT ADD ADDIITONAL PERCENT OR TWO\n",
    "# rftree2 with five variables (avg rating, abv, year, brew_counts, zip)\n",
    "# trees['rftree2'] = RandomForestRegressor(n_estimators = 30, max_features='auto', min_samples_split=10)"
   ]
  },
  {
   "cell_type": "code",
   "execution_count": 1956,
   "metadata": {
    "collapsed": false
   },
   "outputs": [
    {
     "name": "stdout",
     "output_type": "stream",
     "text": [
      "Score: 0.737983565204\n",
      "('brewery_avg_rating2', 0.76522029850938722)\n",
      "('abv', 0.10923387766736398)\n",
      "('zipcode', 0.055850476590261079)\n",
      "('year', 0.040770966047377691)\n",
      "('brew_counts', 0.028924381185609926)\n"
     ]
    }
   ],
   "source": [
    "sorted_features(trees['rftree2'], Xtrain_lim3, Xtest_lim3)"
   ]
  },
  {
   "cell_type": "code",
   "execution_count": 1957,
   "metadata": {
    "collapsed": false
   },
   "outputs": [
    {
     "name": "stdout",
     "output_type": "stream",
     "text": [
      "best model: five vars\n",
      "Model: rftree2\n",
      "Score: 0.736178681732\n",
      "\n",
      "without avg_rating\n",
      "Model: rftree2\n",
      "Score: 0.616170565077\n",
      "\n",
      "without avg_rating and zipcode\n",
      "Model: rftree2\n",
      "Score: 0.365010026253\n",
      "\n"
     ]
    }
   ],
   "source": [
    "## minor exploration on feature importance and how it shifts R2\n",
    "\n",
    "# five vars: abv, year, brew_counts, avg_ratin, zip codes\n",
    "print('best model: five vars')\n",
    "rftree_2(Xtrain_lim3, Xtest_lim3)\n",
    "\n",
    "# what if I get rid of avg beer rating\n",
    "Xtrain_lim4 = s_train.iloc[:, [0, 1, 2, 5]]\n",
    "Xtest_lim4 = s_test.iloc[:, [0, 1, 2, 5]]\n",
    "\n",
    "print('without avg_rating')\n",
    "rftree_2(Xtrain_lim4, Xtest_lim4)\n",
    "\n",
    "# what if I get rid of avg beer rating and zipcode\n",
    "Xtrain_lim5 = s_train.iloc[:, [0, 1, 5]]\n",
    "Xtest_lim5 = s_test.iloc[:, [0, 1, 5]]\n",
    "\n",
    "print('without avg_rating and zipcode')\n",
    "rftree_2(Xtrain_lim5, Xtest_lim5)"
   ]
  },
  {
   "cell_type": "code",
   "execution_count": null,
   "metadata": {
    "collapsed": true
   },
   "outputs": [],
   "source": []
  },
  {
   "cell_type": "code",
   "execution_count": null,
   "metadata": {
    "collapsed": true
   },
   "outputs": [],
   "source": []
  },
  {
   "cell_type": "markdown",
   "metadata": {},
   "source": [
    "## Viz exploration"
   ]
  },
  {
   "cell_type": "code",
   "execution_count": 1958,
   "metadata": {
    "collapsed": false
   },
   "outputs": [],
   "source": [
    "# df2.head()"
   ]
  },
  {
   "cell_type": "code",
   "execution_count": 1959,
   "metadata": {
    "collapsed": false
   },
   "outputs": [
    {
     "data": {
      "text/html": [
       "<div>\n",
       "<table border=\"1\" class=\"dataframe\">\n",
       "  <thead>\n",
       "    <tr style=\"text-align: right;\">\n",
       "      <th></th>\n",
       "      <th>abv</th>\n",
       "      <th>brewery</th>\n",
       "      <th>country</th>\n",
       "      <th>name</th>\n",
       "      <th>rating</th>\n",
       "      <th>state</th>\n",
       "      <th>beer_style</th>\n",
       "      <th>year</th>\n",
       "      <th>location</th>\n",
       "      <th>zipcode</th>\n",
       "      <th>...</th>\n",
       "      <th>Scotch Ale / Wee Heavy</th>\n",
       "      <th>Scottish Ale</th>\n",
       "      <th>Scottish Gruit / Ancient Herbed Ale</th>\n",
       "      <th>Smoked Beer</th>\n",
       "      <th>Tripel</th>\n",
       "      <th>Vienna Lager</th>\n",
       "      <th>Weizenbock</th>\n",
       "      <th>Wheatwine</th>\n",
       "      <th>Winter Warmer</th>\n",
       "      <th>Witbier</th>\n",
       "    </tr>\n",
       "  </thead>\n",
       "  <tbody>\n",
       "    <tr>\n",
       "      <th>0</th>\n",
       "      <td>13.9</td>\n",
       "      <td>Good People Brewing Company</td>\n",
       "      <td>United States</td>\n",
       "      <td>El Gordo</td>\n",
       "      <td>4.45</td>\n",
       "      <td>Alabama</td>\n",
       "      <td>Russian Imperial Stout</td>\n",
       "      <td>2010</td>\n",
       "      <td>Birmingham, AL</td>\n",
       "      <td>35233</td>\n",
       "      <td>...</td>\n",
       "      <td>0</td>\n",
       "      <td>0</td>\n",
       "      <td>0</td>\n",
       "      <td>0</td>\n",
       "      <td>0</td>\n",
       "      <td>0</td>\n",
       "      <td>0</td>\n",
       "      <td>0</td>\n",
       "      <td>0</td>\n",
       "      <td>0</td>\n",
       "    </tr>\n",
       "    <tr>\n",
       "      <th>1</th>\n",
       "      <td>11.7</td>\n",
       "      <td>Straight To Ale</td>\n",
       "      <td>United States</td>\n",
       "      <td>Cabernet Barrel-Aged Laika Stout</td>\n",
       "      <td>4.30</td>\n",
       "      <td>Alabama</td>\n",
       "      <td>Russian Imperial Stout</td>\n",
       "      <td>2013</td>\n",
       "      <td>Huntsville, AL</td>\n",
       "      <td>35801</td>\n",
       "      <td>...</td>\n",
       "      <td>0</td>\n",
       "      <td>0</td>\n",
       "      <td>0</td>\n",
       "      <td>0</td>\n",
       "      <td>0</td>\n",
       "      <td>0</td>\n",
       "      <td>0</td>\n",
       "      <td>0</td>\n",
       "      <td>0</td>\n",
       "      <td>0</td>\n",
       "    </tr>\n",
       "    <tr>\n",
       "      <th>2</th>\n",
       "      <td>7.4</td>\n",
       "      <td>Good People Brewing Company</td>\n",
       "      <td>United States</td>\n",
       "      <td>Hitchhiker</td>\n",
       "      <td>4.33</td>\n",
       "      <td>Alabama</td>\n",
       "      <td>American IPA</td>\n",
       "      <td>2010</td>\n",
       "      <td>Birmingham, AL</td>\n",
       "      <td>35233</td>\n",
       "      <td>...</td>\n",
       "      <td>0</td>\n",
       "      <td>0</td>\n",
       "      <td>0</td>\n",
       "      <td>0</td>\n",
       "      <td>0</td>\n",
       "      <td>0</td>\n",
       "      <td>0</td>\n",
       "      <td>0</td>\n",
       "      <td>0</td>\n",
       "      <td>0</td>\n",
       "    </tr>\n",
       "    <tr>\n",
       "      <th>3</th>\n",
       "      <td>10.0</td>\n",
       "      <td>Good People Brewing Company</td>\n",
       "      <td>United States</td>\n",
       "      <td>Snake Handler Double IPA</td>\n",
       "      <td>4.16</td>\n",
       "      <td>Alabama</td>\n",
       "      <td>American Double / Imperial IPA</td>\n",
       "      <td>2009</td>\n",
       "      <td>Birmingham, AL</td>\n",
       "      <td>35233</td>\n",
       "      <td>...</td>\n",
       "      <td>0</td>\n",
       "      <td>0</td>\n",
       "      <td>0</td>\n",
       "      <td>0</td>\n",
       "      <td>0</td>\n",
       "      <td>0</td>\n",
       "      <td>0</td>\n",
       "      <td>0</td>\n",
       "      <td>0</td>\n",
       "      <td>0</td>\n",
       "    </tr>\n",
       "    <tr>\n",
       "      <th>4</th>\n",
       "      <td>8.5</td>\n",
       "      <td>Good People Brewing Company</td>\n",
       "      <td>United States</td>\n",
       "      <td>Fatso</td>\n",
       "      <td>4.22</td>\n",
       "      <td>Alabama</td>\n",
       "      <td>Russian Imperial Stout</td>\n",
       "      <td>2009</td>\n",
       "      <td>Birmingham, AL</td>\n",
       "      <td>35233</td>\n",
       "      <td>...</td>\n",
       "      <td>0</td>\n",
       "      <td>0</td>\n",
       "      <td>0</td>\n",
       "      <td>0</td>\n",
       "      <td>0</td>\n",
       "      <td>0</td>\n",
       "      <td>0</td>\n",
       "      <td>0</td>\n",
       "      <td>0</td>\n",
       "      <td>0</td>\n",
       "    </tr>\n",
       "  </tbody>\n",
       "</table>\n",
       "<p>5 rows × 173 columns</p>\n",
       "</div>"
      ],
      "text/plain": [
       "    abv                      brewery        country  \\\n",
       "0  13.9  Good People Brewing Company  United States   \n",
       "1  11.7              Straight To Ale  United States   \n",
       "2   7.4  Good People Brewing Company  United States   \n",
       "3  10.0  Good People Brewing Company  United States   \n",
       "4   8.5  Good People Brewing Company  United States   \n",
       "\n",
       "                               name  rating    state  \\\n",
       "0                          El Gordo    4.45  Alabama   \n",
       "1  Cabernet Barrel-Aged Laika Stout    4.30  Alabama   \n",
       "2                        Hitchhiker    4.33  Alabama   \n",
       "3          Snake Handler Double IPA    4.16  Alabama   \n",
       "4                             Fatso    4.22  Alabama   \n",
       "\n",
       "                       beer_style  year        location zipcode   ...     \\\n",
       "0          Russian Imperial Stout  2010  Birmingham, AL   35233   ...      \n",
       "1          Russian Imperial Stout  2013  Huntsville, AL   35801   ...      \n",
       "2                    American IPA  2010  Birmingham, AL   35233   ...      \n",
       "3  American Double / Imperial IPA  2009  Birmingham, AL   35233   ...      \n",
       "4          Russian Imperial Stout  2009  Birmingham, AL   35233   ...      \n",
       "\n",
       "   Scotch Ale / Wee Heavy  Scottish Ale  Scottish Gruit / Ancient Herbed Ale  \\\n",
       "0                       0             0                                    0   \n",
       "1                       0             0                                    0   \n",
       "2                       0             0                                    0   \n",
       "3                       0             0                                    0   \n",
       "4                       0             0                                    0   \n",
       "\n",
       "   Smoked Beer  Tripel  Vienna Lager  Weizenbock  Wheatwine  Winter Warmer  \\\n",
       "0            0       0             0           0          0              0   \n",
       "1            0       0             0           0          0              0   \n",
       "2            0       0             0           0          0              0   \n",
       "3            0       0             0           0          0              0   \n",
       "4            0       0             0           0          0              0   \n",
       "\n",
       "   Witbier  \n",
       "0        0  \n",
       "1        0  \n",
       "2        0  \n",
       "3        0  \n",
       "4        0  \n",
       "\n",
       "[5 rows x 173 columns]"
      ]
     },
     "execution_count": 1959,
     "metadata": {},
     "output_type": "execute_result"
    }
   ],
   "source": [
    "df2.head()"
   ]
  },
  {
   "cell_type": "code",
   "execution_count": 1960,
   "metadata": {
    "collapsed": false
   },
   "outputs": [],
   "source": [
    "# df2.corr()"
   ]
  },
  {
   "cell_type": "code",
   "execution_count": 1961,
   "metadata": {
    "collapsed": false
   },
   "outputs": [
    {
     "data": {
      "text/plain": [
       "94"
      ]
     },
     "execution_count": 1961,
     "metadata": {},
     "output_type": "execute_result"
    }
   ],
   "source": [
    "# 94 unique beer styles\n",
    "len(df2.beer_style.unique())"
   ]
  },
  {
   "cell_type": "code",
   "execution_count": 1962,
   "metadata": {
    "collapsed": false
   },
   "outputs": [
    {
     "data": {
      "text/html": [
       "<div>\n",
       "<table border=\"1\" class=\"dataframe\">\n",
       "  <thead>\n",
       "    <tr style=\"text-align: right;\">\n",
       "      <th></th>\n",
       "      <th>beer_style</th>\n",
       "      <th>rating</th>\n",
       "    </tr>\n",
       "  </thead>\n",
       "  <tbody>\n",
       "    <tr>\n",
       "      <th>27</th>\n",
       "      <td>Bière de Champagne / Bière Brut</td>\n",
       "      <td>4.450000</td>\n",
       "    </tr>\n",
       "    <tr>\n",
       "      <th>59</th>\n",
       "      <td>Gueuze</td>\n",
       "      <td>4.373333</td>\n",
       "    </tr>\n",
       "    <tr>\n",
       "      <th>40</th>\n",
       "      <td>Eisbock</td>\n",
       "      <td>4.355000</td>\n",
       "    </tr>\n",
       "    <tr>\n",
       "      <th>11</th>\n",
       "      <td>American Double / Imperial Stout</td>\n",
       "      <td>4.283497</td>\n",
       "    </tr>\n",
       "    <tr>\n",
       "      <th>9</th>\n",
       "      <td>American Double / Imperial IPA</td>\n",
       "      <td>4.244880</td>\n",
       "    </tr>\n",
       "    <tr>\n",
       "      <th>20</th>\n",
       "      <td>American Wild Ale</td>\n",
       "      <td>4.242000</td>\n",
       "    </tr>\n",
       "    <tr>\n",
       "      <th>41</th>\n",
       "      <td>English Barleywine</td>\n",
       "      <td>4.237931</td>\n",
       "    </tr>\n",
       "    <tr>\n",
       "      <th>67</th>\n",
       "      <td>Lambic - Fruit</td>\n",
       "      <td>4.228667</td>\n",
       "    </tr>\n",
       "    <tr>\n",
       "      <th>54</th>\n",
       "      <td>Flanders Red Ale</td>\n",
       "      <td>4.208571</td>\n",
       "    </tr>\n",
       "    <tr>\n",
       "      <th>79</th>\n",
       "      <td>Russian Imperial Stout</td>\n",
       "      <td>4.207260</td>\n",
       "    </tr>\n",
       "  </tbody>\n",
       "</table>\n",
       "</div>"
      ],
      "text/plain": [
       "                          beer_style    rating\n",
       "27   Bière de Champagne / Bière Brut  4.450000\n",
       "59                            Gueuze  4.373333\n",
       "40                           Eisbock  4.355000\n",
       "11  American Double / Imperial Stout  4.283497\n",
       "9     American Double / Imperial IPA  4.244880\n",
       "20                 American Wild Ale  4.242000\n",
       "41                English Barleywine  4.237931\n",
       "67                    Lambic - Fruit  4.228667\n",
       "54                  Flanders Red Ale  4.208571\n",
       "79            Russian Imperial Stout  4.207260"
      ]
     },
     "execution_count": 1962,
     "metadata": {},
     "output_type": "execute_result"
    }
   ],
   "source": [
    "# top 10 highest rated beer styles\n",
    "ds = df2.groupby('beer_style')['rating'].mean().reset_index()\n",
    "ds.sort_values('rating', ascending = False).head(10)"
   ]
  },
  {
   "cell_type": "code",
   "execution_count": 1963,
   "metadata": {
    "collapsed": false
   },
   "outputs": [],
   "source": [
    "# for i,j in enumerate(df2):\n",
    "#     print(i,j)"
   ]
  },
  {
   "cell_type": "code",
   "execution_count": 1964,
   "metadata": {
    "collapsed": false
   },
   "outputs": [],
   "source": [
    "map_df = df2.iloc[:, [1, 4, 5, 6, 10, 11]]"
   ]
  },
  {
   "cell_type": "code",
   "execution_count": 1965,
   "metadata": {
    "collapsed": false
   },
   "outputs": [
    {
     "data": {
      "text/html": [
       "<div>\n",
       "<table border=\"1\" class=\"dataframe\">\n",
       "  <thead>\n",
       "    <tr style=\"text-align: right;\">\n",
       "      <th></th>\n",
       "      <th>brewery</th>\n",
       "      <th>rating</th>\n",
       "      <th>state</th>\n",
       "      <th>beer_style</th>\n",
       "      <th>lat</th>\n",
       "      <th>lon</th>\n",
       "    </tr>\n",
       "  </thead>\n",
       "  <tbody>\n",
       "    <tr>\n",
       "      <th>0</th>\n",
       "      <td>Good People Brewing Company</td>\n",
       "      <td>4.45</td>\n",
       "      <td>Alabama</td>\n",
       "      <td>Russian Imperial Stout</td>\n",
       "      <td>33.52</td>\n",
       "      <td>-86.79</td>\n",
       "    </tr>\n",
       "    <tr>\n",
       "      <th>1</th>\n",
       "      <td>Straight To Ale</td>\n",
       "      <td>4.30</td>\n",
       "      <td>Alabama</td>\n",
       "      <td>Russian Imperial Stout</td>\n",
       "      <td>34.70</td>\n",
       "      <td>-86.62</td>\n",
       "    </tr>\n",
       "    <tr>\n",
       "      <th>2</th>\n",
       "      <td>Good People Brewing Company</td>\n",
       "      <td>4.33</td>\n",
       "      <td>Alabama</td>\n",
       "      <td>American IPA</td>\n",
       "      <td>33.52</td>\n",
       "      <td>-86.79</td>\n",
       "    </tr>\n",
       "    <tr>\n",
       "      <th>3</th>\n",
       "      <td>Good People Brewing Company</td>\n",
       "      <td>4.16</td>\n",
       "      <td>Alabama</td>\n",
       "      <td>American Double / Imperial IPA</td>\n",
       "      <td>33.52</td>\n",
       "      <td>-86.79</td>\n",
       "    </tr>\n",
       "    <tr>\n",
       "      <th>4</th>\n",
       "      <td>Good People Brewing Company</td>\n",
       "      <td>4.22</td>\n",
       "      <td>Alabama</td>\n",
       "      <td>Russian Imperial Stout</td>\n",
       "      <td>33.52</td>\n",
       "      <td>-86.79</td>\n",
       "    </tr>\n",
       "  </tbody>\n",
       "</table>\n",
       "</div>"
      ],
      "text/plain": [
       "                       brewery  rating    state  \\\n",
       "0  Good People Brewing Company    4.45  Alabama   \n",
       "1              Straight To Ale    4.30  Alabama   \n",
       "2  Good People Brewing Company    4.33  Alabama   \n",
       "3  Good People Brewing Company    4.16  Alabama   \n",
       "4  Good People Brewing Company    4.22  Alabama   \n",
       "\n",
       "                       beer_style    lat    lon  \n",
       "0          Russian Imperial Stout  33.52 -86.79  \n",
       "1          Russian Imperial Stout  34.70 -86.62  \n",
       "2                    American IPA  33.52 -86.79  \n",
       "3  American Double / Imperial IPA  33.52 -86.79  \n",
       "4          Russian Imperial Stout  33.52 -86.79  "
      ]
     },
     "execution_count": 1965,
     "metadata": {},
     "output_type": "execute_result"
    }
   ],
   "source": [
    "map_df.head()"
   ]
  },
  {
   "cell_type": "code",
   "execution_count": 1966,
   "metadata": {
    "collapsed": false
   },
   "outputs": [],
   "source": [
    "map_df = map_df[map_df.state != 'Hawaii']\n",
    "map_df = map_df[map_df.state != 'Alaska']"
   ]
  },
  {
   "cell_type": "code",
   "execution_count": 1967,
   "metadata": {
    "collapsed": false
   },
   "outputs": [],
   "source": [
    "avg_map_df = map_df.groupby(['brewery', 'lat', 'lon'])['rating'].mean().sort_values(ascending = False).reset_index()"
   ]
  },
  {
   "cell_type": "code",
   "execution_count": 1968,
   "metadata": {
    "collapsed": false
   },
   "outputs": [
    {
     "data": {
      "text/html": [
       "<div>\n",
       "<table border=\"1\" class=\"dataframe\">\n",
       "  <thead>\n",
       "    <tr style=\"text-align: right;\">\n",
       "      <th></th>\n",
       "      <th>brewery</th>\n",
       "      <th>lat</th>\n",
       "      <th>lon</th>\n",
       "      <th>rating</th>\n",
       "    </tr>\n",
       "  </thead>\n",
       "  <tbody>\n",
       "    <tr>\n",
       "      <th>0</th>\n",
       "      <td>Brick &amp; Feather Brewery</td>\n",
       "      <td>42.59</td>\n",
       "      <td>-72.55</td>\n",
       "      <td>4.650000</td>\n",
       "    </tr>\n",
       "    <tr>\n",
       "      <th>1</th>\n",
       "      <td>Monkish Brewing Co.</td>\n",
       "      <td>33.83</td>\n",
       "      <td>-118.31</td>\n",
       "      <td>4.600000</td>\n",
       "    </tr>\n",
       "    <tr>\n",
       "      <th>2</th>\n",
       "      <td>Sand City Brewing Co.</td>\n",
       "      <td>40.90</td>\n",
       "      <td>-73.34</td>\n",
       "      <td>4.584286</td>\n",
       "    </tr>\n",
       "    <tr>\n",
       "      <th>3</th>\n",
       "      <td>Bottle Logic Brewing</td>\n",
       "      <td>33.83</td>\n",
       "      <td>-117.86</td>\n",
       "      <td>4.583333</td>\n",
       "    </tr>\n",
       "    <tr>\n",
       "      <th>4</th>\n",
       "      <td>Moonraker Brewing Company</td>\n",
       "      <td>39.00</td>\n",
       "      <td>-121.09</td>\n",
       "      <td>4.570000</td>\n",
       "    </tr>\n",
       "    <tr>\n",
       "      <th>5</th>\n",
       "      <td>Tree House Brewing Company</td>\n",
       "      <td>42.09</td>\n",
       "      <td>-72.31</td>\n",
       "      <td>4.568750</td>\n",
       "    </tr>\n",
       "    <tr>\n",
       "      <th>6</th>\n",
       "      <td>Night Shift Brewing</td>\n",
       "      <td>42.40</td>\n",
       "      <td>-71.05</td>\n",
       "      <td>4.560000</td>\n",
       "    </tr>\n",
       "    <tr>\n",
       "      <th>7</th>\n",
       "      <td>Angry Chair Brewing</td>\n",
       "      <td>27.95</td>\n",
       "      <td>-82.48</td>\n",
       "      <td>4.514000</td>\n",
       "    </tr>\n",
       "    <tr>\n",
       "      <th>8</th>\n",
       "      <td>Sante Adairius Rustic Ales</td>\n",
       "      <td>36.97</td>\n",
       "      <td>-121.95</td>\n",
       "      <td>4.506000</td>\n",
       "    </tr>\n",
       "    <tr>\n",
       "      <th>9</th>\n",
       "      <td>Hangar 24 Brewery</td>\n",
       "      <td>34.06</td>\n",
       "      <td>-117.17</td>\n",
       "      <td>4.495000</td>\n",
       "    </tr>\n",
       "  </tbody>\n",
       "</table>\n",
       "</div>"
      ],
      "text/plain": [
       "                      brewery    lat     lon    rating\n",
       "0     Brick & Feather Brewery  42.59  -72.55  4.650000\n",
       "1         Monkish Brewing Co.  33.83 -118.31  4.600000\n",
       "2       Sand City Brewing Co.  40.90  -73.34  4.584286\n",
       "3        Bottle Logic Brewing  33.83 -117.86  4.583333\n",
       "4   Moonraker Brewing Company  39.00 -121.09  4.570000\n",
       "5  Tree House Brewing Company  42.09  -72.31  4.568750\n",
       "6         Night Shift Brewing  42.40  -71.05  4.560000\n",
       "7         Angry Chair Brewing  27.95  -82.48  4.514000\n",
       "8  Sante Adairius Rustic Ales  36.97 -121.95  4.506000\n",
       "9           Hangar 24 Brewery  34.06 -117.17  4.495000"
      ]
     },
     "execution_count": 1968,
     "metadata": {},
     "output_type": "execute_result"
    }
   ],
   "source": [
    "# breweries with highest beer rating avg\n",
    "avg_map_df.head(10)"
   ]
  },
  {
   "cell_type": "code",
   "execution_count": 1969,
   "metadata": {
    "collapsed": false
   },
   "outputs": [
    {
     "data": {
      "text/plain": [
       "count    549.000000\n",
       "mean       4.000654\n",
       "std        0.321165\n",
       "min        1.945000\n",
       "25%        3.840000\n",
       "50%        4.060000\n",
       "75%        4.210000\n",
       "max        4.650000\n",
       "Name: rating, dtype: float64"
      ]
     },
     "execution_count": 1969,
     "metadata": {},
     "output_type": "execute_result"
    }
   ],
   "source": [
    "avg_map_df['rating'].describe()"
   ]
  },
  {
   "cell_type": "code",
   "execution_count": 1970,
   "metadata": {
    "collapsed": false
   },
   "outputs": [
    {
     "data": {
      "text/plain": [
       "<matplotlib.axes._subplots.AxesSubplot at 0x1442cb940>"
      ]
     },
     "execution_count": 1970,
     "metadata": {},
     "output_type": "execute_result"
    },
    {
     "data": {
      "image/png": "[encoded data removed]",
      "text/plain": [
       "<matplotlib.figure.Figure at 0x1443139b0>"
      ]
     },
     "metadata": {},
     "output_type": "display_data"
    }
   ],
   "source": [
    "avg_map_df['rating'].hist()"
   ]
  },
  {
   "cell_type": "code",
   "execution_count": 1971,
   "metadata": {
    "collapsed": false
   },
   "outputs": [],
   "source": [
    "def rating(x):\n",
    "    if x> 4.6:\n",
    "        return 7\n",
    "    elif x>=4.3 and x<4.6:\n",
    "        return 6\n",
    "    elif x>=4.0 and x<4.3:\n",
    "        return 5\n",
    "    elif x>=3.99999:\n",
    "        return 4\n",
    "    elif x>=3.5 and x<3.9999:\n",
    "        return 3\n",
    "    elif x>=3 and x<3.5:\n",
    "        return 2\n",
    "    else:\n",
    "        return 1"
   ]
  },
  {
   "cell_type": "code",
   "execution_count": 1972,
   "metadata": {
    "collapsed": true
   },
   "outputs": [],
   "source": [
    "avg_map_df['rating_cat'] = 0\n",
    "avg_map_df['rating_cat'] = avg_map_df.rating.map(rating)"
   ]
  },
  {
   "cell_type": "code",
   "execution_count": 1974,
   "metadata": {
    "collapsed": false
   },
   "outputs": [],
   "source": [
    "# avg_map_df.sort_values('rating_cat', ascending = False)"
   ]
  },
  {
   "cell_type": "code",
   "execution_count": 1975,
   "metadata": {
    "collapsed": true
   },
   "outputs": [],
   "source": [
    "sns.set_style('white')"
   ]
  },
  {
   "cell_type": "code",
   "execution_count": 1976,
   "metadata": {
    "collapsed": true
   },
   "outputs": [],
   "source": [
    "pal = sns.color_palette(\"RdBu\", n_colors=7)"
   ]
  },
  {
   "cell_type": "code",
   "execution_count": 1977,
   "metadata": {
    "collapsed": false,
    "scrolled": false
   },
   "outputs": [
    {
     "data": {
      "text/plain": [
       "<matplotlib.legend.Legend at 0x143be2048>"
      ]
     },
     "execution_count": 1977,
     "metadata": {},
     "output_type": "execute_result"
    },
    {
     "data": {
      "image/png": "[encoded data removed]",
      "text/plain": [
       "<matplotlib.figure.Figure at 0x1443735c0>"
      ]
     },
     "metadata": {},
     "output_type": "display_data"
    }
   ],
   "source": [
    "# sns.lmplot('lon', 'lat', data=avg_map_df, hue='rating_cat', palette = pal, fit_reg=False, size = 10, \\\n",
    "#            aspect = 1.2, scatter_kws={\"s\": 150})\n",
    "\n",
    "g = sns.lmplot('lon', 'lat', data=avg_map_df, hue='rating_cat', palette = pal, fit_reg=False, size = 10, \\\n",
    "           aspect = 1.2, scatter_kws={\"s\": 150}, legend = False)\n",
    "\n",
    "handles = g._legend_data.values()\n",
    "labels = ['Below average', '', '', 'Average', '', '', 'Above average']\n",
    "g.fig.legend(handles=handles, labels=labels, loc='right')"
   ]
  },
  {
   "cell_type": "code",
   "execution_count": 1980,
   "metadata": {
    "collapsed": true
   },
   "outputs": [],
   "source": [
    "# Olde Main Brewing Co in Iowa is dark red dot"
   ]
  },
  {
   "cell_type": "code",
   "execution_count": 1981,
   "metadata": {
    "collapsed": true
   },
   "outputs": [],
   "source": [
    "# at a later date, would be cool to do scatter plots of rating by beer style"
   ]
  },
  {
   "cell_type": "code",
   "execution_count": null,
   "metadata": {
    "collapsed": true
   },
   "outputs": [],
   "source": []
  }
 ],
 "metadata": {
  "kernelspec": {
   "display_name": "Python 3",
   "language": "python",
   "name": "python3"
  },
  "language_info": {
   "codemirror_mode": {
    "name": "ipython",
    "version": 3
   },
   "file_extension": ".py",
   "mimetype": "text/x-python",
   "name": "python",
   "nbconvert_exporter": "python",
   "pygments_lexer": "ipython3",
   "version": "3.6.0"
  }
 },
 "nbformat": 4,
 "nbformat_minor": 2
}
